{
 "cells": [
  {
   "source": [
    "# Data preprocess"
   ],
   "cell_type": "markdown",
   "metadata": {}
  },
  {
   "cell_type": "code",
   "execution_count": 1,
   "metadata": {},
   "outputs": [],
   "source": [
    "# ---------------------------------------------\n",
    "# Library\n",
    "# ---------------------------------------------\n",
    "import sqlite3, pandas, dask.dataframe as dd, datetime"
   ]
  },
  {
   "cell_type": "code",
   "execution_count": 2,
   "metadata": {},
   "outputs": [
    {
     "output_type": "stream",
     "name": "stdout",
     "text": [
      "Loading data ... done!\n",
      "Drop useless columns ... done!\n",
      "Count contents ... done!\n",
      "Store data into a DB ... done!\n"
     ]
    }
   ],
   "source": [
    "# ---------------------------------------------\n",
    "# Preprocess 1. Raw to database \n",
    "# ---------------------------------------------\n",
    "# Remove some useless columns and store the date \n",
    "# in a Database format, which will be more effieient.\n",
    "\n",
    "\n",
    "## Load data\n",
    "print(\"Loading data ... \", end = '')\n",
    "rawAnswer = pandas.read_csv(\"data/Answers.csv\", encoding=\"latin1\")\n",
    "rawQuestions = pandas.read_csv(\"data/Questions.csv\",encoding=\"latin1\")\n",
    "rawTags = pandas.read_csv(\"data/Tags.csv\", encoding=\"latin1\")\n",
    "print(\"done!\")\n",
    "\n",
    "## Drop useless columns\n",
    "print(\"Drop useless columns ... \", end = '')\n",
    "rawAnswer.drop(columns = [\"OwnerUserId\"])\n",
    "rawQuestions.drop(columns = [\"ClosedDate\", \"ClosedDate\"])\n",
    "print(\"done!\")\n",
    "\n",
    "## Count contents\n",
    "print(\"Count contents ... \", end = '')\n",
    "for i in range(len(rawAnswer)):\n",
    "    rawAnswer.at[i, \"Body\"] = len(str(rawAnswer.loc[i][\"Body\"]).split(\" \"))\n",
    "\n",
    "for i in range(len(rawQuestions)):\n",
    "    rawQuestions.at[i, \"Body\"] = len(str(rawQuestions.loc[i][\"Body\"]).split(\" \"))\n",
    "    rawQuestions.at[i, \"Title\"] = len(str(rawQuestions.loc[i][\"Title\"]).split(\" \"))\n",
    "print(\"done!\")\n",
    "\n",
    "## Store data in a DB\n",
    "cnx = sqlite3.connect('data/QAT.db')\n",
    "print(\"Store data into a DB ... \", end = '')\n",
    "rawAnswer.to_sql(name='Answer', con=cnx,  if_exists = \"replace\")\n",
    "rawQuestions.to_sql(name='Question', con=cnx,  if_exists = \"replace\")\n",
    "rawTags.to_sql(name='Tag', con=cnx,  if_exists = \"replace\")\n",
    "print(\"done!\")\n",
    "# ---------------------------------------------"
   ]
  },
  {
   "cell_type": "code",
   "execution_count": 3,
   "metadata": {},
   "outputs": [
    {
     "output_type": "stream",
     "name": "stdout",
     "text": [
      "Loading data ... done!\n",
      "Remove unanswered questions ... done!\n",
      "Change time text to float timestamp ... done!\n",
      "Store data into a new DB ... done!\n"
     ]
    }
   ],
   "source": [
    "# ---------------------------------------------\n",
    "# Preprocess 2. Remove redundancy\n",
    "# ---------------------------------------------\n",
    "# Some of the Question has no answer, should be removed\n",
    "\n",
    "print(\"Loading data ... \", end = '')\n",
    "Answer = dd.read_sql_table('Answer', \"sqlite:///data/QAT.db\", index_col='index')\n",
    "Tag = dd.read_sql_table('Tag', \"sqlite:///data/QAT.db\", index_col='index')\n",
    "Question = dd.read_sql_table('Question', \"sqlite:///data/QAT.db\", index_col='index')\n",
    "print(\"done!\")\n",
    "\n",
    "print('Remove unanswered questions ... ', end = '')\n",
    "## Get Parent Id from Answers\n",
    "pid = list(Answer[\"ParentId\"])\n",
    "pid = set(pid)\n",
    "## Checking the existence\n",
    "Question = Question[Question.Id.isin(pid)]\n",
    "Question = Question.compute()\n",
    "Answer = Answer.compute()\n",
    "print(\"done!\")\n",
    "\n",
    "## Change the time format from text to float timestamp\n",
    "print(\"Change time text to float timestamp ... \", end = '')\n",
    "def column_time_text_to_datetime(df,label):\n",
    "    to_datetime = []\n",
    "    for idx, row_data in df.iterrows():\n",
    "        date_time_obj = datetime.datetime.strptime(row_data[label], '%Y-%m-%dT%H:%M:%SZ')\n",
    "        to_datetime.append(date_time_obj.timestamp())\n",
    "    df = df.drop(columns=[label])\n",
    "    df.insert(len(df.columns),label+'_to_datetime',to_datetime, True)\n",
    "    return df\n",
    "\n",
    "Answer = column_time_text_to_datetime(Answer,\"CreationDate\")\n",
    "Question = column_time_text_to_datetime(Question,\"CreationDate\")\n",
    "print(\"done!\")\n",
    "\n",
    "## Store data in a new DB\n",
    "print(\"Store data into a new DB ... \", end = '')\n",
    "Question.to_sql(\"Question_trimmed\", \"sqlite:///data/QAT_trimmed.db\", if_exists = \"replace\")\n",
    "Answer.to_sql(\"Answer_trimmed\", \"sqlite:///data/QAT_trimmed.db\", if_exists = \"replace\")\n",
    "print(\"done!\")\n",
    "# ---------------------------------------------"
   ]
  },
  {
   "cell_type": "code",
   "execution_count": 4,
   "metadata": {},
   "outputs": [
    {
     "output_type": "stream",
     "name": "stdout",
     "text": [
      "Load Data ... done!\n",
      "Sort data ... done!\n",
      "Select data ...............................................................................................................\n",
      "done!\n",
      "Store Final Data to DB ... done!\n"
     ]
    }
   ],
   "source": [
    "# ---------------------------------------------\n",
    "# Preprocess 3. Select Interested Data By Question Id\n",
    "# ---------------------------------------------\n",
    "# Since the dataset is very large, we should only select\n",
    "# the data we interested in\n",
    "\n",
    "\n",
    "## Load trimmed data\n",
    "print(\"Load Data ... \", end = '')\n",
    "Answer = pandas.read_sql('Answer_trimmed', \"sqlite:///data/QAT_trimmed.db\", index_col='index')\n",
    "Question = pandas.read_sql('Question_trimmed', \"sqlite:///data/QAT_trimmed.db\", index_col='index')\n",
    "print(\"done!\")\n",
    "\n",
    "## Sort data by CreationDate_to_datetime & Score\n",
    "print(\"Sort data ... \", end = '')\n",
    "Answer_sorted_score = Answer.sort_values(by=['ParentId','Score','CreationDate_to_datetime'],ascending=[1,0,1])\n",
    "Answer_sorted_time = Answer.sort_values(by=['ParentId','CreationDate_to_datetime'])\n",
    "Question_sorted_Id = Question.sort_values(by=['Id'])\n",
    "print(\"done!\")\n",
    "\n",
    "## Select interested data, and put into Question dataframe\n",
    "### Create iterator\n",
    "time_gen = Answer_sorted_time.iterrows()\n",
    "score_gen = Answer_sorted_score.iterrows()\n",
    "count = 0\n",
    "next_score_data = next(score_gen)\n",
    "next_time_data = next(time_gen)\n",
    "\n",
    "print(\"Select data \", end = '')\n",
    "for idx, row in Question_sorted_Id.iterrows():\n",
    "    ### Put first data into Question dataframe by row\n",
    "    Question_sorted_Id.at[idx,'BestAnsTime'] = next_score_data[1]['CreationDate_to_datetime']\n",
    "    Question_sorted_Id.at[idx,'FirstAnsTime'] = next_time_data[1]['CreationDate_to_datetime']\n",
    "    next_score_data = next(score_gen)\n",
    "    next_time_data = next(time_gen)\n",
    "\n",
    "    ### Skip other data\n",
    "    while(next_score_data[1]['ParentId'] == row['Id']):\n",
    "        try:\n",
    "            next_score_data = next(score_gen)\n",
    "            next_time_data = next(time_gen)\n",
    "        except StopIteration:\n",
    "            print('\\ndone!')\n",
    "            break\n",
    "    if count % 10000 == 0:\n",
    "        print('.', end='')\n",
    "    count+=1\n",
    "\n",
    "## Store data to a final DB\n",
    "print(\"Store Final Data to DB ... \", end = '')\n",
    "Answer.to_sql('Answer', \"sqlite:///data/QAT_final.db\",  if_exists = \"replace\")\n",
    "Question_sorted_Id = Question_sorted_Id.drop(columns=['OwnerUserId','ClosedDate'])\n",
    "Question_sorted_Id.to_sql('Question', \"sqlite:///data/QAT_final.db\",  if_exists = \"replace\")\n",
    "print(\"done!\")\n",
    "# ---------------------------------------------"
   ]
  },
  {
   "cell_type": "code",
   "execution_count": null,
   "metadata": {},
   "outputs": [],
   "source": []
  }
 ],
 "metadata": {
  "kernelspec": {
   "name": "python3",
   "display_name": "Python 3.8.2 64-bit",
   "metadata": {
    "interpreter": {
     "hash": "95e24f6d028694f957b1106e412d23c4f9ba09e8613c65a2aeaf0c0e73a5daa1"
    }
   }
  },
  "language_info": {
   "codemirror_mode": {
    "name": "ipython",
    "version": 3
   },
   "file_extension": ".py",
   "mimetype": "text/x-python",
   "name": "python",
   "nbconvert_exporter": "python",
   "pygments_lexer": "ipython3",
   "version": "3.8.2-final"
  }
 },
 "nbformat": 4,
 "nbformat_minor": 2
}