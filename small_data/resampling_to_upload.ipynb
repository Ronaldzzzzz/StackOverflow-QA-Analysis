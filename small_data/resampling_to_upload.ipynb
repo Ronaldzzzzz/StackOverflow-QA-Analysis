{
 "metadata": {
  "language_info": {
   "codemirror_mode": {
    "name": "ipython",
    "version": 3
   },
   "file_extension": ".py",
   "mimetype": "text/x-python",
   "name": "python",
   "nbconvert_exporter": "python",
   "pygments_lexer": "ipython3",
   "version": "3.6.9-final"
  },
  "orig_nbformat": 2,
  "kernelspec": {
   "name": "python3",
   "display_name": "Python 3",
   "language": "python"
  }
 },
 "nbformat": 4,
 "nbformat_minor": 2,
 "cells": [
  {
   "cell_type": "code",
   "execution_count": 1,
   "metadata": {},
   "outputs": [
    {
     "output_type": "stream",
     "name": "stdout",
     "text": [
      "load data\n"
     ]
    }
   ],
   "source": [
    "import sqlite3, pandas, dask.dataframe as dd \n",
    "\n",
    "## Load data\n",
    "rawAnswer = pandas.read_csv(\"data/Answers.csv\", encoding=\"latin1\")\n",
    "rawQuestions = pandas.read_csv(\"data/Questions.csv\",encoding=\"latin1\")\n",
    "rawTags = pandas.read_csv(\"data/Tags.csv\", encoding=\"latin1\")\n",
    "print(\"load data\")"
   ]
  },
  {
   "cell_type": "code",
   "execution_count": 2,
   "metadata": {},
   "outputs": [],
   "source": [
    "Ques = rawQuestions.sample(100)\n",
    "Ques.to_csv('Questions_100_sample.csv')"
   ]
  },
  {
   "cell_type": "code",
   "execution_count": 3,
   "metadata": {},
   "outputs": [
    {
     "output_type": "execute_result",
     "data": {
      "text/plain": [
       "               Id  OwnerUserId          CreationDate ClosedDate  Score  \\\n",
       "523064   18165270    1375068.0  2013-08-10T18:49:10Z        NaN      2   \n",
       "6596       450630        379.0  2009-01-16T14:57:48Z        NaN      0   \n",
       "1153885  37279810    2092927.0  2016-05-17T15:03:16Z        NaN      1   \n",
       "1083874  35395440    4305114.0  2016-02-14T18:26:42Z        NaN      0   \n",
       "1039984  34189440    5659817.0  2015-12-09T21:35:27Z        NaN      0   \n",
       "...           ...          ...                   ...        ...    ...   \n",
       "10783      676940      81947.0  2009-03-24T11:09:23Z        NaN      1   \n",
       "172918    6708920     604843.0  2011-07-15T14:51:14Z        NaN      1   \n",
       "564680   19525370    2051060.0  2013-10-22T18:17:04Z        NaN      1   \n",
       "169007    6576260     525445.0  2011-07-04T21:35:50Z        NaN      4   \n",
       "65690     2960720      48310.0  2010-06-02T18:59:46Z        NaN      1   \n",
       "\n",
       "                                                     Title  \\\n",
       "523064   Enum property in parent class should change in...   \n",
       "6596                Visual C++ 2005 hangs during qt builds   \n",
       "1153885  Phinx migrations - explicit length of integer ...   \n",
       "1083874  Is object-oriented programming in Matlab suite...   \n",
       "1039984                IMFSinkWriterCallback Never happens   \n",
       "...                                                    ...   \n",
       "10783              XmlDocument, XmlResolver and www.w3.org   \n",
       "172918   Javascript, Chrome Extension development, XMLH...   \n",
       "564680   AS3: calling functions in sequence without cre...   \n",
       "169007                          PHP - bind_result to array   \n",
       "65690    2d Game graphics/sprites - landscape vs portra...   \n",
       "\n",
       "                                                      Body  \n",
       "523064   <p>If I have in my Parent class property Condi...  \n",
       "6596     <p>At my shop, the main product app is a mongr...  \n",
       "1153885  <p>Can you tell me please if is possible to se...  \n",
       "1083874  <p>I have been reading about the benefits of o...  \n",
       "1039984  <p>I'm trying to get my IMFSinkWriter's Finali...  \n",
       "...                                                    ...  \n",
       "10783    <p>One of my users had a single error while op...  \n",
       "172918   <p>Am having a slightly confusing problem with...  \n",
       "564680   <p>Let's say I have a series of animations tha...  \n",
       "169007   <p>I'm using a prepared statement for a query ...  \n",
       "65690    <p>I am working on a simple iPad game and wond...  \n",
       "\n",
       "[100 rows x 7 columns]"
      ],
      "text/html": "<div>\n<style scoped>\n    .dataframe tbody tr th:only-of-type {\n        vertical-align: middle;\n    }\n\n    .dataframe tbody tr th {\n        vertical-align: top;\n    }\n\n    .dataframe thead th {\n        text-align: right;\n    }\n</style>\n<table border=\"1\" class=\"dataframe\">\n  <thead>\n    <tr style=\"text-align: right;\">\n      <th></th>\n      <th>Id</th>\n      <th>OwnerUserId</th>\n      <th>CreationDate</th>\n      <th>ClosedDate</th>\n      <th>Score</th>\n      <th>Title</th>\n      <th>Body</th>\n    </tr>\n  </thead>\n  <tbody>\n    <tr>\n      <th>523064</th>\n      <td>18165270</td>\n      <td>1375068.0</td>\n      <td>2013-08-10T18:49:10Z</td>\n      <td>NaN</td>\n      <td>2</td>\n      <td>Enum property in parent class should change in...</td>\n      <td>&lt;p&gt;If I have in my Parent class property Condi...</td>\n    </tr>\n    <tr>\n      <th>6596</th>\n      <td>450630</td>\n      <td>379.0</td>\n      <td>2009-01-16T14:57:48Z</td>\n      <td>NaN</td>\n      <td>0</td>\n      <td>Visual C++ 2005 hangs during qt builds</td>\n      <td>&lt;p&gt;At my shop, the main product app is a mongr...</td>\n    </tr>\n    <tr>\n      <th>1153885</th>\n      <td>37279810</td>\n      <td>2092927.0</td>\n      <td>2016-05-17T15:03:16Z</td>\n      <td>NaN</td>\n      <td>1</td>\n      <td>Phinx migrations - explicit length of integer ...</td>\n      <td>&lt;p&gt;Can you tell me please if is possible to se...</td>\n    </tr>\n    <tr>\n      <th>1083874</th>\n      <td>35395440</td>\n      <td>4305114.0</td>\n      <td>2016-02-14T18:26:42Z</td>\n      <td>NaN</td>\n      <td>0</td>\n      <td>Is object-oriented programming in Matlab suite...</td>\n      <td>&lt;p&gt;I have been reading about the benefits of o...</td>\n    </tr>\n    <tr>\n      <th>1039984</th>\n      <td>34189440</td>\n      <td>5659817.0</td>\n      <td>2015-12-09T21:35:27Z</td>\n      <td>NaN</td>\n      <td>0</td>\n      <td>IMFSinkWriterCallback Never happens</td>\n      <td>&lt;p&gt;I'm trying to get my IMFSinkWriter's Finali...</td>\n    </tr>\n    <tr>\n      <th>...</th>\n      <td>...</td>\n      <td>...</td>\n      <td>...</td>\n      <td>...</td>\n      <td>...</td>\n      <td>...</td>\n      <td>...</td>\n    </tr>\n    <tr>\n      <th>10783</th>\n      <td>676940</td>\n      <td>81947.0</td>\n      <td>2009-03-24T11:09:23Z</td>\n      <td>NaN</td>\n      <td>1</td>\n      <td>XmlDocument, XmlResolver and www.w3.org</td>\n      <td>&lt;p&gt;One of my users had a single error while op...</td>\n    </tr>\n    <tr>\n      <th>172918</th>\n      <td>6708920</td>\n      <td>604843.0</td>\n      <td>2011-07-15T14:51:14Z</td>\n      <td>NaN</td>\n      <td>1</td>\n      <td>Javascript, Chrome Extension development, XMLH...</td>\n      <td>&lt;p&gt;Am having a slightly confusing problem with...</td>\n    </tr>\n    <tr>\n      <th>564680</th>\n      <td>19525370</td>\n      <td>2051060.0</td>\n      <td>2013-10-22T18:17:04Z</td>\n      <td>NaN</td>\n      <td>1</td>\n      <td>AS3: calling functions in sequence without cre...</td>\n      <td>&lt;p&gt;Let's say I have a series of animations tha...</td>\n    </tr>\n    <tr>\n      <th>169007</th>\n      <td>6576260</td>\n      <td>525445.0</td>\n      <td>2011-07-04T21:35:50Z</td>\n      <td>NaN</td>\n      <td>4</td>\n      <td>PHP - bind_result to array</td>\n      <td>&lt;p&gt;I'm using a prepared statement for a query ...</td>\n    </tr>\n    <tr>\n      <th>65690</th>\n      <td>2960720</td>\n      <td>48310.0</td>\n      <td>2010-06-02T18:59:46Z</td>\n      <td>NaN</td>\n      <td>1</td>\n      <td>2d Game graphics/sprites - landscape vs portra...</td>\n      <td>&lt;p&gt;I am working on a simple iPad game and wond...</td>\n    </tr>\n  </tbody>\n</table>\n<p>100 rows × 7 columns</p>\n</div>"
     },
     "metadata": {},
     "execution_count": 3
    }
   ],
   "source": [
    "Ques"
   ]
  },
  {
   "cell_type": "code",
   "execution_count": 4,
   "metadata": {},
   "outputs": [],
   "source": [
    "Ans = []\n",
    "for idx, question in Ques.iterrows():\n",
    "    Ans.append(rawAnswer[rawAnswer['ParentId'] == question['Id']])\n",
    "Ans = pandas.concat(Ans)\n",
    "Ans.to_csv('Answers_100_sample.csv')"
   ]
  },
  {
   "cell_type": "code",
   "execution_count": 5,
   "metadata": {},
   "outputs": [
    {
     "output_type": "execute_result",
     "data": {
      "text/plain": [
       "               Id  OwnerUserId          CreationDate  ParentId  Score  \\\n",
       "982783   18165297    1145666.0  2013-08-10T18:52:13Z  18165270      0   \n",
       "982784   18165304     811785.0  2013-08-10T18:52:35Z  18165270      2   \n",
       "982785   18165306      22656.0  2013-08-10T18:52:46Z  18165270      5   \n",
       "24513      450785      23713.0  2009-01-16T15:39:03Z    450630      0   \n",
       "1914581  37964197    1322150.0  2016-06-22T09:40:57Z  37279810      0   \n",
       "...           ...          ...                   ...       ...    ...   \n",
       "1049662  19527286     749657.0  2013-10-22T20:06:23Z  19525370      0   \n",
       "1049805  19530289    1298129.0  2013-10-22T23:46:19Z  19525370      2   \n",
       "378270    6576673     114770.0  2011-07-04T22:54:02Z   6576260      3   \n",
       "431122    7528848     886555.0  2011-09-23T12:21:33Z   6576260     -1   \n",
       "174526    2976637      47493.0  2010-06-04T18:11:36Z   2960720      1   \n",
       "\n",
       "                                                      Body  \n",
       "982783   <ol>\\n<li>That's not a parent class, but an in...  \n",
       "982784   <p>Since <a href=\"http://stackoverflow.com/que...  \n",
       "982785   <p>You could make your interface generic:</p>\\...  \n",
       "24513    <p>In my experience, some of these tools are c...  \n",
       "1914581  <p>As I understood <a href=\"http://docs.phinx....  \n",
       "...                                                    ...  \n",
       "1049662  <p>How about you return something  instead so ...  \n",
       "1049805  <p>Using events is a better way to deal with s...  \n",
       "378270   <p>I can't take credit for it, but the <a href...  \n",
       "431122   <p>I really don't see the point of putting you...  \n",
       "174526   <p>The best answer is that it really depends o...  \n",
       "\n",
       "[159 rows x 6 columns]"
      ],
      "text/html": "<div>\n<style scoped>\n    .dataframe tbody tr th:only-of-type {\n        vertical-align: middle;\n    }\n\n    .dataframe tbody tr th {\n        vertical-align: top;\n    }\n\n    .dataframe thead th {\n        text-align: right;\n    }\n</style>\n<table border=\"1\" class=\"dataframe\">\n  <thead>\n    <tr style=\"text-align: right;\">\n      <th></th>\n      <th>Id</th>\n      <th>OwnerUserId</th>\n      <th>CreationDate</th>\n      <th>ParentId</th>\n      <th>Score</th>\n      <th>Body</th>\n    </tr>\n  </thead>\n  <tbody>\n    <tr>\n      <th>982783</th>\n      <td>18165297</td>\n      <td>1145666.0</td>\n      <td>2013-08-10T18:52:13Z</td>\n      <td>18165270</td>\n      <td>0</td>\n      <td>&lt;ol&gt;\\n&lt;li&gt;That's not a parent class, but an in...</td>\n    </tr>\n    <tr>\n      <th>982784</th>\n      <td>18165304</td>\n      <td>811785.0</td>\n      <td>2013-08-10T18:52:35Z</td>\n      <td>18165270</td>\n      <td>2</td>\n      <td>&lt;p&gt;Since &lt;a href=\"http://stackoverflow.com/que...</td>\n    </tr>\n    <tr>\n      <th>982785</th>\n      <td>18165306</td>\n      <td>22656.0</td>\n      <td>2013-08-10T18:52:46Z</td>\n      <td>18165270</td>\n      <td>5</td>\n      <td>&lt;p&gt;You could make your interface generic:&lt;/p&gt;\\...</td>\n    </tr>\n    <tr>\n      <th>24513</th>\n      <td>450785</td>\n      <td>23713.0</td>\n      <td>2009-01-16T15:39:03Z</td>\n      <td>450630</td>\n      <td>0</td>\n      <td>&lt;p&gt;In my experience, some of these tools are c...</td>\n    </tr>\n    <tr>\n      <th>1914581</th>\n      <td>37964197</td>\n      <td>1322150.0</td>\n      <td>2016-06-22T09:40:57Z</td>\n      <td>37279810</td>\n      <td>0</td>\n      <td>&lt;p&gt;As I understood &lt;a href=\"http://docs.phinx....</td>\n    </tr>\n    <tr>\n      <th>...</th>\n      <td>...</td>\n      <td>...</td>\n      <td>...</td>\n      <td>...</td>\n      <td>...</td>\n      <td>...</td>\n    </tr>\n    <tr>\n      <th>1049662</th>\n      <td>19527286</td>\n      <td>749657.0</td>\n      <td>2013-10-22T20:06:23Z</td>\n      <td>19525370</td>\n      <td>0</td>\n      <td>&lt;p&gt;How about you return something  instead so ...</td>\n    </tr>\n    <tr>\n      <th>1049805</th>\n      <td>19530289</td>\n      <td>1298129.0</td>\n      <td>2013-10-22T23:46:19Z</td>\n      <td>19525370</td>\n      <td>2</td>\n      <td>&lt;p&gt;Using events is a better way to deal with s...</td>\n    </tr>\n    <tr>\n      <th>378270</th>\n      <td>6576673</td>\n      <td>114770.0</td>\n      <td>2011-07-04T22:54:02Z</td>\n      <td>6576260</td>\n      <td>3</td>\n      <td>&lt;p&gt;I can't take credit for it, but the &lt;a href...</td>\n    </tr>\n    <tr>\n      <th>431122</th>\n      <td>7528848</td>\n      <td>886555.0</td>\n      <td>2011-09-23T12:21:33Z</td>\n      <td>6576260</td>\n      <td>-1</td>\n      <td>&lt;p&gt;I really don't see the point of putting you...</td>\n    </tr>\n    <tr>\n      <th>174526</th>\n      <td>2976637</td>\n      <td>47493.0</td>\n      <td>2010-06-04T18:11:36Z</td>\n      <td>2960720</td>\n      <td>1</td>\n      <td>&lt;p&gt;The best answer is that it really depends o...</td>\n    </tr>\n  </tbody>\n</table>\n<p>159 rows × 6 columns</p>\n</div>"
     },
     "metadata": {},
     "execution_count": 5
    }
   ],
   "source": [
    "Ans"
   ]
  },
  {
   "cell_type": "code",
   "execution_count": 6,
   "metadata": {},
   "outputs": [],
   "source": [
    "Tag = []\n",
    "for idx, question in Ques.iterrows():\n",
    "    Tag.append(rawTags[rawTags['Id'] == question['Id']])\n",
    "Tag = pandas.concat(Tag)\n",
    "Tag.to_csv('Tags_100_sample.csv')"
   ]
  },
  {
   "cell_type": "code",
   "execution_count": 7,
   "metadata": {},
   "outputs": [
    {
     "output_type": "execute_result",
     "data": {
      "text/plain": [
       "               Id                 Tag\n",
       "1526340  18165270                  c#\n",
       "1526341  18165270                .net\n",
       "19138      450630                 c++\n",
       "19139      450630                  qt\n",
       "19140      450630     sql-server-2005\n",
       "...           ...                 ...\n",
       "485974    6576260                 php\n",
       "485975    6576260               mysql\n",
       "485976    6576260  prepared-statement\n",
       "188516    2960720              iphone\n",
       "188517    2960720            graphics\n",
       "\n",
       "[285 rows x 2 columns]"
      ],
      "text/html": "<div>\n<style scoped>\n    .dataframe tbody tr th:only-of-type {\n        vertical-align: middle;\n    }\n\n    .dataframe tbody tr th {\n        vertical-align: top;\n    }\n\n    .dataframe thead th {\n        text-align: right;\n    }\n</style>\n<table border=\"1\" class=\"dataframe\">\n  <thead>\n    <tr style=\"text-align: right;\">\n      <th></th>\n      <th>Id</th>\n      <th>Tag</th>\n    </tr>\n  </thead>\n  <tbody>\n    <tr>\n      <th>1526340</th>\n      <td>18165270</td>\n      <td>c#</td>\n    </tr>\n    <tr>\n      <th>1526341</th>\n      <td>18165270</td>\n      <td>.net</td>\n    </tr>\n    <tr>\n      <th>19138</th>\n      <td>450630</td>\n      <td>c++</td>\n    </tr>\n    <tr>\n      <th>19139</th>\n      <td>450630</td>\n      <td>qt</td>\n    </tr>\n    <tr>\n      <th>19140</th>\n      <td>450630</td>\n      <td>sql-server-2005</td>\n    </tr>\n    <tr>\n      <th>...</th>\n      <td>...</td>\n      <td>...</td>\n    </tr>\n    <tr>\n      <th>485974</th>\n      <td>6576260</td>\n      <td>php</td>\n    </tr>\n    <tr>\n      <th>485975</th>\n      <td>6576260</td>\n      <td>mysql</td>\n    </tr>\n    <tr>\n      <th>485976</th>\n      <td>6576260</td>\n      <td>prepared-statement</td>\n    </tr>\n    <tr>\n      <th>188516</th>\n      <td>2960720</td>\n      <td>iphone</td>\n    </tr>\n    <tr>\n      <th>188517</th>\n      <td>2960720</td>\n      <td>graphics</td>\n    </tr>\n  </tbody>\n</table>\n<p>285 rows × 2 columns</p>\n</div>"
     },
     "metadata": {},
     "execution_count": 7
    }
   ],
   "source": [
    "Tag"
   ]
  },
  {
   "cell_type": "code",
   "execution_count": 8,
   "metadata": {},
   "outputs": [],
   "source": [
    "rawAnswer = pandas.read_csv(\"Answers_100_sample.csv\")\n",
    "rawQuestions = pandas.read_csv(\"Questions_100_sample.csv\")\n",
    "rawTags = pandas.read_csv(\"Tags_100_sample.csv\")"
   ]
  },
  {
   "cell_type": "code",
   "execution_count": 9,
   "metadata": {},
   "outputs": [
    {
     "output_type": "execute_result",
     "data": {
      "text/plain": [
       "     Unnamed: 0        Id  OwnerUserId          CreationDate  ParentId  Score  \\\n",
       "0        982783  18165297    1145666.0  2013-08-10T18:52:13Z  18165270      0   \n",
       "1        982784  18165304     811785.0  2013-08-10T18:52:35Z  18165270      2   \n",
       "2        982785  18165306      22656.0  2013-08-10T18:52:46Z  18165270      5   \n",
       "3         24513    450785      23713.0  2009-01-16T15:39:03Z    450630      0   \n",
       "4       1914581  37964197    1322150.0  2016-06-22T09:40:57Z  37279810      0   \n",
       "..          ...       ...          ...                   ...       ...    ...   \n",
       "154     1049662  19527286     749657.0  2013-10-22T20:06:23Z  19525370      0   \n",
       "155     1049805  19530289    1298129.0  2013-10-22T23:46:19Z  19525370      2   \n",
       "156      378270   6576673     114770.0  2011-07-04T22:54:02Z   6576260      3   \n",
       "157      431122   7528848     886555.0  2011-09-23T12:21:33Z   6576260     -1   \n",
       "158      174526   2976637      47493.0  2010-06-04T18:11:36Z   2960720      1   \n",
       "\n",
       "                                                  Body  \n",
       "0    <ol>\\n<li>That's not a parent class, but an in...  \n",
       "1    <p>Since <a href=\"http://stackoverflow.com/que...  \n",
       "2    <p>You could make your interface generic:</p>\\...  \n",
       "3    <p>In my experience, some of these tools are c...  \n",
       "4    <p>As I understood <a href=\"http://docs.phinx....  \n",
       "..                                                 ...  \n",
       "154  <p>How about you return something  instead so ...  \n",
       "155  <p>Using events is a better way to deal with s...  \n",
       "156  <p>I can't take credit for it, but the <a href...  \n",
       "157  <p>I really don't see the point of putting you...  \n",
       "158  <p>The best answer is that it really depends o...  \n",
       "\n",
       "[159 rows x 7 columns]"
      ],
      "text/html": "<div>\n<style scoped>\n    .dataframe tbody tr th:only-of-type {\n        vertical-align: middle;\n    }\n\n    .dataframe tbody tr th {\n        vertical-align: top;\n    }\n\n    .dataframe thead th {\n        text-align: right;\n    }\n</style>\n<table border=\"1\" class=\"dataframe\">\n  <thead>\n    <tr style=\"text-align: right;\">\n      <th></th>\n      <th>Unnamed: 0</th>\n      <th>Id</th>\n      <th>OwnerUserId</th>\n      <th>CreationDate</th>\n      <th>ParentId</th>\n      <th>Score</th>\n      <th>Body</th>\n    </tr>\n  </thead>\n  <tbody>\n    <tr>\n      <th>0</th>\n      <td>982783</td>\n      <td>18165297</td>\n      <td>1145666.0</td>\n      <td>2013-08-10T18:52:13Z</td>\n      <td>18165270</td>\n      <td>0</td>\n      <td>&lt;ol&gt;\\n&lt;li&gt;That's not a parent class, but an in...</td>\n    </tr>\n    <tr>\n      <th>1</th>\n      <td>982784</td>\n      <td>18165304</td>\n      <td>811785.0</td>\n      <td>2013-08-10T18:52:35Z</td>\n      <td>18165270</td>\n      <td>2</td>\n      <td>&lt;p&gt;Since &lt;a href=\"http://stackoverflow.com/que...</td>\n    </tr>\n    <tr>\n      <th>2</th>\n      <td>982785</td>\n      <td>18165306</td>\n      <td>22656.0</td>\n      <td>2013-08-10T18:52:46Z</td>\n      <td>18165270</td>\n      <td>5</td>\n      <td>&lt;p&gt;You could make your interface generic:&lt;/p&gt;\\...</td>\n    </tr>\n    <tr>\n      <th>3</th>\n      <td>24513</td>\n      <td>450785</td>\n      <td>23713.0</td>\n      <td>2009-01-16T15:39:03Z</td>\n      <td>450630</td>\n      <td>0</td>\n      <td>&lt;p&gt;In my experience, some of these tools are c...</td>\n    </tr>\n    <tr>\n      <th>4</th>\n      <td>1914581</td>\n      <td>37964197</td>\n      <td>1322150.0</td>\n      <td>2016-06-22T09:40:57Z</td>\n      <td>37279810</td>\n      <td>0</td>\n      <td>&lt;p&gt;As I understood &lt;a href=\"http://docs.phinx....</td>\n    </tr>\n    <tr>\n      <th>...</th>\n      <td>...</td>\n      <td>...</td>\n      <td>...</td>\n      <td>...</td>\n      <td>...</td>\n      <td>...</td>\n      <td>...</td>\n    </tr>\n    <tr>\n      <th>154</th>\n      <td>1049662</td>\n      <td>19527286</td>\n      <td>749657.0</td>\n      <td>2013-10-22T20:06:23Z</td>\n      <td>19525370</td>\n      <td>0</td>\n      <td>&lt;p&gt;How about you return something  instead so ...</td>\n    </tr>\n    <tr>\n      <th>155</th>\n      <td>1049805</td>\n      <td>19530289</td>\n      <td>1298129.0</td>\n      <td>2013-10-22T23:46:19Z</td>\n      <td>19525370</td>\n      <td>2</td>\n      <td>&lt;p&gt;Using events is a better way to deal with s...</td>\n    </tr>\n    <tr>\n      <th>156</th>\n      <td>378270</td>\n      <td>6576673</td>\n      <td>114770.0</td>\n      <td>2011-07-04T22:54:02Z</td>\n      <td>6576260</td>\n      <td>3</td>\n      <td>&lt;p&gt;I can't take credit for it, but the &lt;a href...</td>\n    </tr>\n    <tr>\n      <th>157</th>\n      <td>431122</td>\n      <td>7528848</td>\n      <td>886555.0</td>\n      <td>2011-09-23T12:21:33Z</td>\n      <td>6576260</td>\n      <td>-1</td>\n      <td>&lt;p&gt;I really don't see the point of putting you...</td>\n    </tr>\n    <tr>\n      <th>158</th>\n      <td>174526</td>\n      <td>2976637</td>\n      <td>47493.0</td>\n      <td>2010-06-04T18:11:36Z</td>\n      <td>2960720</td>\n      <td>1</td>\n      <td>&lt;p&gt;The best answer is that it really depends o...</td>\n    </tr>\n  </tbody>\n</table>\n<p>159 rows × 7 columns</p>\n</div>"
     },
     "metadata": {},
     "execution_count": 9
    }
   ],
   "source": [
    "rawAnswer"
   ]
  },
  {
   "cell_type": "code",
   "execution_count": 10,
   "metadata": {},
   "outputs": [
    {
     "output_type": "execute_result",
     "data": {
      "text/plain": [
       "    Unnamed: 0        Id  OwnerUserId          CreationDate ClosedDate  Score  \\\n",
       "0       523064  18165270    1375068.0  2013-08-10T18:49:10Z        NaN      2   \n",
       "1         6596    450630        379.0  2009-01-16T14:57:48Z        NaN      0   \n",
       "2      1153885  37279810    2092927.0  2016-05-17T15:03:16Z        NaN      1   \n",
       "3      1083874  35395440    4305114.0  2016-02-14T18:26:42Z        NaN      0   \n",
       "4      1039984  34189440    5659817.0  2015-12-09T21:35:27Z        NaN      0   \n",
       "..         ...       ...          ...                   ...        ...    ...   \n",
       "95       10783    676940      81947.0  2009-03-24T11:09:23Z        NaN      1   \n",
       "96      172918   6708920     604843.0  2011-07-15T14:51:14Z        NaN      1   \n",
       "97      564680  19525370    2051060.0  2013-10-22T18:17:04Z        NaN      1   \n",
       "98      169007   6576260     525445.0  2011-07-04T21:35:50Z        NaN      4   \n",
       "99       65690   2960720      48310.0  2010-06-02T18:59:46Z        NaN      1   \n",
       "\n",
       "                                                Title  \\\n",
       "0   Enum property in parent class should change in...   \n",
       "1              Visual C++ 2005 hangs during qt builds   \n",
       "2   Phinx migrations - explicit length of integer ...   \n",
       "3   Is object-oriented programming in Matlab suite...   \n",
       "4                 IMFSinkWriterCallback Never happens   \n",
       "..                                                ...   \n",
       "95            XmlDocument, XmlResolver and www.w3.org   \n",
       "96  Javascript, Chrome Extension development, XMLH...   \n",
       "97  AS3: calling functions in sequence without cre...   \n",
       "98                         PHP - bind_result to array   \n",
       "99  2d Game graphics/sprites - landscape vs portra...   \n",
       "\n",
       "                                                 Body  \n",
       "0   <p>If I have in my Parent class property Condi...  \n",
       "1   <p>At my shop, the main product app is a mongr...  \n",
       "2   <p>Can you tell me please if is possible to se...  \n",
       "3   <p>I have been reading about the benefits of o...  \n",
       "4   <p>I'm trying to get my IMFSinkWriter's Finali...  \n",
       "..                                                ...  \n",
       "95  <p>One of my users had a single error while op...  \n",
       "96  <p>Am having a slightly confusing problem with...  \n",
       "97  <p>Let's say I have a series of animations tha...  \n",
       "98  <p>I'm using a prepared statement for a query ...  \n",
       "99  <p>I am working on a simple iPad game and wond...  \n",
       "\n",
       "[100 rows x 8 columns]"
      ],
      "text/html": "<div>\n<style scoped>\n    .dataframe tbody tr th:only-of-type {\n        vertical-align: middle;\n    }\n\n    .dataframe tbody tr th {\n        vertical-align: top;\n    }\n\n    .dataframe thead th {\n        text-align: right;\n    }\n</style>\n<table border=\"1\" class=\"dataframe\">\n  <thead>\n    <tr style=\"text-align: right;\">\n      <th></th>\n      <th>Unnamed: 0</th>\n      <th>Id</th>\n      <th>OwnerUserId</th>\n      <th>CreationDate</th>\n      <th>ClosedDate</th>\n      <th>Score</th>\n      <th>Title</th>\n      <th>Body</th>\n    </tr>\n  </thead>\n  <tbody>\n    <tr>\n      <th>0</th>\n      <td>523064</td>\n      <td>18165270</td>\n      <td>1375068.0</td>\n      <td>2013-08-10T18:49:10Z</td>\n      <td>NaN</td>\n      <td>2</td>\n      <td>Enum property in parent class should change in...</td>\n      <td>&lt;p&gt;If I have in my Parent class property Condi...</td>\n    </tr>\n    <tr>\n      <th>1</th>\n      <td>6596</td>\n      <td>450630</td>\n      <td>379.0</td>\n      <td>2009-01-16T14:57:48Z</td>\n      <td>NaN</td>\n      <td>0</td>\n      <td>Visual C++ 2005 hangs during qt builds</td>\n      <td>&lt;p&gt;At my shop, the main product app is a mongr...</td>\n    </tr>\n    <tr>\n      <th>2</th>\n      <td>1153885</td>\n      <td>37279810</td>\n      <td>2092927.0</td>\n      <td>2016-05-17T15:03:16Z</td>\n      <td>NaN</td>\n      <td>1</td>\n      <td>Phinx migrations - explicit length of integer ...</td>\n      <td>&lt;p&gt;Can you tell me please if is possible to se...</td>\n    </tr>\n    <tr>\n      <th>3</th>\n      <td>1083874</td>\n      <td>35395440</td>\n      <td>4305114.0</td>\n      <td>2016-02-14T18:26:42Z</td>\n      <td>NaN</td>\n      <td>0</td>\n      <td>Is object-oriented programming in Matlab suite...</td>\n      <td>&lt;p&gt;I have been reading about the benefits of o...</td>\n    </tr>\n    <tr>\n      <th>4</th>\n      <td>1039984</td>\n      <td>34189440</td>\n      <td>5659817.0</td>\n      <td>2015-12-09T21:35:27Z</td>\n      <td>NaN</td>\n      <td>0</td>\n      <td>IMFSinkWriterCallback Never happens</td>\n      <td>&lt;p&gt;I'm trying to get my IMFSinkWriter's Finali...</td>\n    </tr>\n    <tr>\n      <th>...</th>\n      <td>...</td>\n      <td>...</td>\n      <td>...</td>\n      <td>...</td>\n      <td>...</td>\n      <td>...</td>\n      <td>...</td>\n      <td>...</td>\n    </tr>\n    <tr>\n      <th>95</th>\n      <td>10783</td>\n      <td>676940</td>\n      <td>81947.0</td>\n      <td>2009-03-24T11:09:23Z</td>\n      <td>NaN</td>\n      <td>1</td>\n      <td>XmlDocument, XmlResolver and www.w3.org</td>\n      <td>&lt;p&gt;One of my users had a single error while op...</td>\n    </tr>\n    <tr>\n      <th>96</th>\n      <td>172918</td>\n      <td>6708920</td>\n      <td>604843.0</td>\n      <td>2011-07-15T14:51:14Z</td>\n      <td>NaN</td>\n      <td>1</td>\n      <td>Javascript, Chrome Extension development, XMLH...</td>\n      <td>&lt;p&gt;Am having a slightly confusing problem with...</td>\n    </tr>\n    <tr>\n      <th>97</th>\n      <td>564680</td>\n      <td>19525370</td>\n      <td>2051060.0</td>\n      <td>2013-10-22T18:17:04Z</td>\n      <td>NaN</td>\n      <td>1</td>\n      <td>AS3: calling functions in sequence without cre...</td>\n      <td>&lt;p&gt;Let's say I have a series of animations tha...</td>\n    </tr>\n    <tr>\n      <th>98</th>\n      <td>169007</td>\n      <td>6576260</td>\n      <td>525445.0</td>\n      <td>2011-07-04T21:35:50Z</td>\n      <td>NaN</td>\n      <td>4</td>\n      <td>PHP - bind_result to array</td>\n      <td>&lt;p&gt;I'm using a prepared statement for a query ...</td>\n    </tr>\n    <tr>\n      <th>99</th>\n      <td>65690</td>\n      <td>2960720</td>\n      <td>48310.0</td>\n      <td>2010-06-02T18:59:46Z</td>\n      <td>NaN</td>\n      <td>1</td>\n      <td>2d Game graphics/sprites - landscape vs portra...</td>\n      <td>&lt;p&gt;I am working on a simple iPad game and wond...</td>\n    </tr>\n  </tbody>\n</table>\n<p>100 rows × 8 columns</p>\n</div>"
     },
     "metadata": {},
     "execution_count": 10
    }
   ],
   "source": [
    "rawQuestions"
   ]
  },
  {
   "cell_type": "code",
   "execution_count": 11,
   "metadata": {},
   "outputs": [
    {
     "output_type": "execute_result",
     "data": {
      "text/plain": [
       "     Unnamed: 0        Id                 Tag\n",
       "0       1526340  18165270                  c#\n",
       "1       1526341  18165270                .net\n",
       "2         19138    450630                 c++\n",
       "3         19139    450630                  qt\n",
       "4         19140    450630     sql-server-2005\n",
       "..          ...       ...                 ...\n",
       "280      485974   6576260                 php\n",
       "281      485975   6576260               mysql\n",
       "282      485976   6576260  prepared-statement\n",
       "283      188516   2960720              iphone\n",
       "284      188517   2960720            graphics\n",
       "\n",
       "[285 rows x 3 columns]"
      ],
      "text/html": "<div>\n<style scoped>\n    .dataframe tbody tr th:only-of-type {\n        vertical-align: middle;\n    }\n\n    .dataframe tbody tr th {\n        vertical-align: top;\n    }\n\n    .dataframe thead th {\n        text-align: right;\n    }\n</style>\n<table border=\"1\" class=\"dataframe\">\n  <thead>\n    <tr style=\"text-align: right;\">\n      <th></th>\n      <th>Unnamed: 0</th>\n      <th>Id</th>\n      <th>Tag</th>\n    </tr>\n  </thead>\n  <tbody>\n    <tr>\n      <th>0</th>\n      <td>1526340</td>\n      <td>18165270</td>\n      <td>c#</td>\n    </tr>\n    <tr>\n      <th>1</th>\n      <td>1526341</td>\n      <td>18165270</td>\n      <td>.net</td>\n    </tr>\n    <tr>\n      <th>2</th>\n      <td>19138</td>\n      <td>450630</td>\n      <td>c++</td>\n    </tr>\n    <tr>\n      <th>3</th>\n      <td>19139</td>\n      <td>450630</td>\n      <td>qt</td>\n    </tr>\n    <tr>\n      <th>4</th>\n      <td>19140</td>\n      <td>450630</td>\n      <td>sql-server-2005</td>\n    </tr>\n    <tr>\n      <th>...</th>\n      <td>...</td>\n      <td>...</td>\n      <td>...</td>\n    </tr>\n    <tr>\n      <th>280</th>\n      <td>485974</td>\n      <td>6576260</td>\n      <td>php</td>\n    </tr>\n    <tr>\n      <th>281</th>\n      <td>485975</td>\n      <td>6576260</td>\n      <td>mysql</td>\n    </tr>\n    <tr>\n      <th>282</th>\n      <td>485976</td>\n      <td>6576260</td>\n      <td>prepared-statement</td>\n    </tr>\n    <tr>\n      <th>283</th>\n      <td>188516</td>\n      <td>2960720</td>\n      <td>iphone</td>\n    </tr>\n    <tr>\n      <th>284</th>\n      <td>188517</td>\n      <td>2960720</td>\n      <td>graphics</td>\n    </tr>\n  </tbody>\n</table>\n<p>285 rows × 3 columns</p>\n</div>"
     },
     "metadata": {},
     "execution_count": 11
    }
   ],
   "source": [
    "rawTags"
   ]
  },
  {
   "cell_type": "code",
   "execution_count": null,
   "metadata": {},
   "outputs": [],
   "source": []
  }
 ]
}