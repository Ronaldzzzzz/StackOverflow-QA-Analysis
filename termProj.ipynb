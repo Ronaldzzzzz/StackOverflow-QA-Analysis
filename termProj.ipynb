{
 "cells": [
  {
   "cell_type": "code",
   "execution_count": 1,
   "metadata": {},
   "outputs": [],
   "source": [
    "# Import libraries\n",
    "import sqlite3, pandas\n",
    "import dask.dataframe as dd"
   ]
  },
  {
   "cell_type": "code",
   "execution_count": null,
   "metadata": {},
   "outputs": [],
   "source": [
    "# Data preprocess\n",
    "# ---------------------------------------------\n",
    "## Load data\n",
    "\n",
    "rawAnswer = pandas.read_csv(\"data/Answers.csv\", encoding=\"latin1\")\n",
    "rawQuestions = pandas.read_csv(\"data/Questions.csv\",encoding=\"latin1\")\n",
    "rawTags = pandas.read_csv(\"data/Tags.csv\", encoding=\"latin1\")"
   ]
  },
  {
   "cell_type": "code",
   "execution_count": null,
   "metadata": {},
   "outputs": [],
   "source": [
    "## Drop useless columns\n",
    "\n",
    "rawAnswer.drop(columns = [\"OwnerUserId\"])\n",
    "rawQuestions.drop(columns = [\"OwnerUserId\", \"ClosedDate\"])"
   ]
  },
  {
   "cell_type": "code",
   "execution_count": null,
   "metadata": {},
   "outputs": [],
   "source": [
    "## Count contents\n",
    "for i in range(len(rawAnswer)):\n",
    "    rawAnswer.at[i, \"Body\"] = len(str(rawAnswer.loc[i][\"Body\"]).split(\" \"))\n",
    "\n",
    "for i in range(len(rawQuestions)):\n",
    "    rawQuestions.at[i, \"Body\"] = len(str(rawQuestions.loc[i][\"Body\"]).split(\" \"))\n",
    "    rawQuestions.at[i, \"Title\"] = len(str(rawQuestions.loc[i][\"Title\"]).split(\" \"))"
   ]
  },
  {
   "cell_type": "code",
   "execution_count": null,
   "metadata": {},
   "outputs": [],
   "source": [
    "## Store data in a DB\n",
    "cnx = sqlite3.connect('data/QAT.db')\n",
    "\n",
    "rawAnswer.to_sql(name='Answer', con=cnx,  if_exists = \"replace\")\n",
    "rawQuestions.to_sql(name='Question', con=cnx,  if_exists = \"replace\")\n",
    "rawTags.to_sql(name='Tag', con=cnx,  if_exists = \"replace\")\n",
    "# ---------------------------------------------"
   ]
  },
  {
   "cell_type": "code",
   "execution_count": 4,
   "metadata": {},
   "outputs": [],
   "source": [
    "# Remove redundancy\n",
    "# Some of the Question has no answer, should be removed\n",
    "cnx = sqlite3.connect('data/QAT.db')\n",
    "\n",
    "Answer = pandas.read_sql('select * from Answer', cnx)\n",
    "Tag = pandas.read_sql('select * from Tag', cnx)\n",
    "\n",
    "## Dask dataframe\n",
    "Question = dd.read_sql_table('Question', \"sqlite:///data/QAT.db\", index_col='index')\n"
   ]
  },
  {
   "cell_type": "code",
   "execution_count": 11,
   "metadata": {},
   "outputs": [
    {
     "output_type": "stream",
     "name": "stdout",
     "text": [
      "1264216\n"
     ]
    }
   ],
   "source": [
    "## Before trimming\n",
    "print(len(Question))"
   ]
  },
  {
   "cell_type": "code",
   "execution_count": 13,
   "metadata": {},
   "outputs": [],
   "source": [
    "## Get Parent Id from Answer\n",
    "pid = Answer[\"ParentId\"].tolist()\n",
    "pid = set(pid)"
   ]
  },
  {
   "cell_type": "code",
   "execution_count": 14,
   "metadata": {},
   "outputs": [
    {
     "output_type": "stream",
     "name": "stdout",
     "text": [
      "               Id  OwnerUserId          CreationDate            ClosedDate  \\\nindex                                                                        \n0              80         26.0  2008-08-01T13:57:07Z                  None   \n1              90         58.0  2008-08-01T14:41:24Z  2012-12-26T03:45:49Z   \n2             120         83.0  2008-08-01T15:50:08Z                  None   \n3             180    2089740.0  2008-08-01T18:42:19Z                  None   \n4             260         91.0  2008-08-01T23:22:08Z                  None   \n...           ...          ...                   ...                   ...   \n1264197  40142860    7044919.0  2016-10-19T23:01:07Z                  None   \n1264200  40142900     419730.0  2016-10-19T23:05:07Z                  None   \n1264201  40142910    4825744.0  2016-10-19T23:05:49Z                  None   \n1264203  40142940    6819989.0  2016-10-19T23:08:42Z                  None   \n1264210  40143190     333403.0  2016-10-19T23:36:01Z                  None   \n\n         Score  Title  Body  \nindex                        \n0           26      7   293  \n1          144      7    24  \n2           21      3    54  \n3           53      5    41  \n4           49      6   169  \n...        ...    ...   ...  \n1264197      0      5    63  \n1264200      0     13    51  \n1264201      0     11   586  \n1264203     -1      8    74  \n1264210      1     10    74  \n\n[1102568 rows x 7 columns]\n"
     ]
    }
   ],
   "source": [
    "## Checking the existence\n",
    "Question_trimmed = Question[Question.Id.isin(pid)]\n",
    "Question_trimmed = Question_trimmed.compute()\n",
    "\n",
    "## After trimming\n",
    "print(len(Question_trimmed))"
   ]
  },
  {
   "cell_type": "code",
   "execution_count": 15,
   "metadata": {},
   "outputs": [],
   "source": [
    "## Store to DB\n",
    "Question_trimmed.to_sql(\"Question_trimmed\", \"sqlite:///data/QAT.db\", if_exists = \"replace\")"
   ]
  }
 ],
 "metadata": {
  "kernelspec": {
   "name": "python3",
   "display_name": "Python 3.8.2 64-bit",
   "metadata": {
    "interpreter": {
     "hash": "95e24f6d028694f957b1106e412d23c4f9ba09e8613c65a2aeaf0c0e73a5daa1"
    }
   }
  },
  "language_info": {
   "codemirror_mode": {
    "name": "ipython",
    "version": 3
   },
   "file_extension": ".py",
   "mimetype": "text/x-python",
   "name": "python",
   "nbconvert_exporter": "python",
   "pygments_lexer": "ipython3",
   "version": "3.8.2-final"
  }
 },
 "nbformat": 4,
 "nbformat_minor": 2
}