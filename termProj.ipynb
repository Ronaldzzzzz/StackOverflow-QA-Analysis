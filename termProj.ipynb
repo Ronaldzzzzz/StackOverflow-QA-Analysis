{
 "cells": [
  {
   "cell_type": "code",
   "execution_count": 1,
   "metadata": {},
   "outputs": [],
   "source": [
    "import sqlite3, pandas\n",
    "cnx = sqlite3.connect('data/QAT.db')\n",
    "\n",
    "Question = pandas.read_sql('select * from Question', cnx)\n",
    "Answer = pandas.read_sql('select * from Answer', cnx)\n",
    "Tag = pandas.read_sql('select * from Tag', cnx)\n",
    "\n",
    "# Answer.to_sql(name='Answer',con=cnx)"
   ]
  },
  {
   "cell_type": "code",
   "execution_count": 2,
   "metadata": {},
   "outputs": [
    {
     "output_type": "execute_result",
     "data": {
      "text/plain": [
       "Index(['index', 'Id', 'OwnerUserId', 'CreationDate', 'Score', 'Body_count',\n",
       "       'Title_count'],\n",
       "      dtype='object')"
      ]
     },
     "metadata": {},
     "execution_count": 2
    }
   ],
   "source": [
    "Question.columns"
   ]
  },
  {
   "cell_type": "code",
   "execution_count": 3,
   "metadata": {},
   "outputs": [
    {
     "output_type": "execute_result",
     "data": {
      "text/plain": [
       "       index       Id  OwnerUserId          CreationDate  Score  Body_count  \\\n",
       "90000  90000  3835460     450062.0  2010-09-30T23:14:09Z      0         569   \n",
       "90001  90001  3835480     327402.0  2010-09-30T23:19:20Z      6         204   \n",
       "90002  90002  3835560     463383.0  2010-09-30T23:37:03Z      5          27   \n",
       "90003  90003  3835580     144773.0  2010-09-30T23:41:49Z      1         247   \n",
       "90004  90004  3835610     202309.0  2010-09-30T23:49:32Z      3          57   \n",
       "90005  90005  3835750     463406.0  2010-10-01T00:32:14Z      0          42   \n",
       "90006  90006  3835820     463422.0  2010-10-01T00:50:31Z      0         121   \n",
       "90007  90007  3835830     252253.0  2010-10-01T00:53:26Z      7         204   \n",
       "90008  90008  3835850      66105.0  2010-10-01T00:59:27Z      0         138   \n",
       "90009  90009  3835890     220413.0  2010-10-01T01:09:46Z      0         184   \n",
       "\n",
       "       Title_count  \n",
       "90000           11  \n",
       "90001           11  \n",
       "90002            9  \n",
       "90003            7  \n",
       "90004            5  \n",
       "90005            9  \n",
       "90006           12  \n",
       "90007            7  \n",
       "90008            4  \n",
       "90009            3  "
      ],
      "text/html": "<div>\n<style scoped>\n    .dataframe tbody tr th:only-of-type {\n        vertical-align: middle;\n    }\n\n    .dataframe tbody tr th {\n        vertical-align: top;\n    }\n\n    .dataframe thead th {\n        text-align: right;\n    }\n</style>\n<table border=\"1\" class=\"dataframe\">\n  <thead>\n    <tr style=\"text-align: right;\">\n      <th></th>\n      <th>index</th>\n      <th>Id</th>\n      <th>OwnerUserId</th>\n      <th>CreationDate</th>\n      <th>Score</th>\n      <th>Body_count</th>\n      <th>Title_count</th>\n    </tr>\n  </thead>\n  <tbody>\n    <tr>\n      <th>90000</th>\n      <td>90000</td>\n      <td>3835460</td>\n      <td>450062.0</td>\n      <td>2010-09-30T23:14:09Z</td>\n      <td>0</td>\n      <td>569</td>\n      <td>11</td>\n    </tr>\n    <tr>\n      <th>90001</th>\n      <td>90001</td>\n      <td>3835480</td>\n      <td>327402.0</td>\n      <td>2010-09-30T23:19:20Z</td>\n      <td>6</td>\n      <td>204</td>\n      <td>11</td>\n    </tr>\n    <tr>\n      <th>90002</th>\n      <td>90002</td>\n      <td>3835560</td>\n      <td>463383.0</td>\n      <td>2010-09-30T23:37:03Z</td>\n      <td>5</td>\n      <td>27</td>\n      <td>9</td>\n    </tr>\n    <tr>\n      <th>90003</th>\n      <td>90003</td>\n      <td>3835580</td>\n      <td>144773.0</td>\n      <td>2010-09-30T23:41:49Z</td>\n      <td>1</td>\n      <td>247</td>\n      <td>7</td>\n    </tr>\n    <tr>\n      <th>90004</th>\n      <td>90004</td>\n      <td>3835610</td>\n      <td>202309.0</td>\n      <td>2010-09-30T23:49:32Z</td>\n      <td>3</td>\n      <td>57</td>\n      <td>5</td>\n    </tr>\n    <tr>\n      <th>90005</th>\n      <td>90005</td>\n      <td>3835750</td>\n      <td>463406.0</td>\n      <td>2010-10-01T00:32:14Z</td>\n      <td>0</td>\n      <td>42</td>\n      <td>9</td>\n    </tr>\n    <tr>\n      <th>90006</th>\n      <td>90006</td>\n      <td>3835820</td>\n      <td>463422.0</td>\n      <td>2010-10-01T00:50:31Z</td>\n      <td>0</td>\n      <td>121</td>\n      <td>12</td>\n    </tr>\n    <tr>\n      <th>90007</th>\n      <td>90007</td>\n      <td>3835830</td>\n      <td>252253.0</td>\n      <td>2010-10-01T00:53:26Z</td>\n      <td>7</td>\n      <td>204</td>\n      <td>7</td>\n    </tr>\n    <tr>\n      <th>90008</th>\n      <td>90008</td>\n      <td>3835850</td>\n      <td>66105.0</td>\n      <td>2010-10-01T00:59:27Z</td>\n      <td>0</td>\n      <td>138</td>\n      <td>4</td>\n    </tr>\n    <tr>\n      <th>90009</th>\n      <td>90009</td>\n      <td>3835890</td>\n      <td>220413.0</td>\n      <td>2010-10-01T01:09:46Z</td>\n      <td>0</td>\n      <td>184</td>\n      <td>3</td>\n    </tr>\n  </tbody>\n</table>\n</div>"
     },
     "metadata": {},
     "execution_count": 3
    }
   ],
   "source": [
    "Question[90000:90010]"
   ]
  },
  {
   "cell_type": "code",
   "execution_count": 4,
   "metadata": {},
   "outputs": [
    {
     "output_type": "execute_result",
     "data": {
      "text/plain": [
       "   index   Id  OwnerUserId          CreationDate  ParentId  Score  Body_count\n",
       "0      0   92         61.0  2008-08-01T14:45:37Z        90     13          18\n",
       "1      1  124         26.0  2008-08-01T16:09:47Z        80     12          59\n",
       "2      2  199         50.0  2008-08-01T19:36:46Z       180      1         279\n",
       "3      3  269         91.0  2008-08-01T23:49:57Z       260      4         159\n",
       "4      4  307         49.0  2008-08-02T01:49:46Z       260     28         137\n",
       "5      5  332         59.0  2008-08-02T03:00:24Z       330     19         131\n",
       "6      6  344        100.0  2008-08-02T04:18:15Z       260      6          73\n",
       "7      7  359        119.0  2008-08-02T06:16:23Z       260      5          63\n",
       "8      8  473         49.0  2008-08-02T15:33:13Z       470      8         108\n",
       "9      9  529         86.0  2008-08-02T18:16:07Z       180      3          52"
      ],
      "text/html": "<div>\n<style scoped>\n    .dataframe tbody tr th:only-of-type {\n        vertical-align: middle;\n    }\n\n    .dataframe tbody tr th {\n        vertical-align: top;\n    }\n\n    .dataframe thead th {\n        text-align: right;\n    }\n</style>\n<table border=\"1\" class=\"dataframe\">\n  <thead>\n    <tr style=\"text-align: right;\">\n      <th></th>\n      <th>index</th>\n      <th>Id</th>\n      <th>OwnerUserId</th>\n      <th>CreationDate</th>\n      <th>ParentId</th>\n      <th>Score</th>\n      <th>Body_count</th>\n    </tr>\n  </thead>\n  <tbody>\n    <tr>\n      <th>0</th>\n      <td>0</td>\n      <td>92</td>\n      <td>61.0</td>\n      <td>2008-08-01T14:45:37Z</td>\n      <td>90</td>\n      <td>13</td>\n      <td>18</td>\n    </tr>\n    <tr>\n      <th>1</th>\n      <td>1</td>\n      <td>124</td>\n      <td>26.0</td>\n      <td>2008-08-01T16:09:47Z</td>\n      <td>80</td>\n      <td>12</td>\n      <td>59</td>\n    </tr>\n    <tr>\n      <th>2</th>\n      <td>2</td>\n      <td>199</td>\n      <td>50.0</td>\n      <td>2008-08-01T19:36:46Z</td>\n      <td>180</td>\n      <td>1</td>\n      <td>279</td>\n    </tr>\n    <tr>\n      <th>3</th>\n      <td>3</td>\n      <td>269</td>\n      <td>91.0</td>\n      <td>2008-08-01T23:49:57Z</td>\n      <td>260</td>\n      <td>4</td>\n      <td>159</td>\n    </tr>\n    <tr>\n      <th>4</th>\n      <td>4</td>\n      <td>307</td>\n      <td>49.0</td>\n      <td>2008-08-02T01:49:46Z</td>\n      <td>260</td>\n      <td>28</td>\n      <td>137</td>\n    </tr>\n    <tr>\n      <th>5</th>\n      <td>5</td>\n      <td>332</td>\n      <td>59.0</td>\n      <td>2008-08-02T03:00:24Z</td>\n      <td>330</td>\n      <td>19</td>\n      <td>131</td>\n    </tr>\n    <tr>\n      <th>6</th>\n      <td>6</td>\n      <td>344</td>\n      <td>100.0</td>\n      <td>2008-08-02T04:18:15Z</td>\n      <td>260</td>\n      <td>6</td>\n      <td>73</td>\n    </tr>\n    <tr>\n      <th>7</th>\n      <td>7</td>\n      <td>359</td>\n      <td>119.0</td>\n      <td>2008-08-02T06:16:23Z</td>\n      <td>260</td>\n      <td>5</td>\n      <td>63</td>\n    </tr>\n    <tr>\n      <th>8</th>\n      <td>8</td>\n      <td>473</td>\n      <td>49.0</td>\n      <td>2008-08-02T15:33:13Z</td>\n      <td>470</td>\n      <td>8</td>\n      <td>108</td>\n    </tr>\n    <tr>\n      <th>9</th>\n      <td>9</td>\n      <td>529</td>\n      <td>86.0</td>\n      <td>2008-08-02T18:16:07Z</td>\n      <td>180</td>\n      <td>3</td>\n      <td>52</td>\n    </tr>\n  </tbody>\n</table>\n</div>"
     },
     "metadata": {},
     "execution_count": 4
    }
   ],
   "source": [
    "Answer[:10]"
   ]
  },
  {
   "cell_type": "code",
   "execution_count": 5,
   "metadata": {},
   "outputs": [
    {
     "output_type": "execute_result",
     "data": {
      "text/plain": [
       "         index       Id  OwnerUserId          CreationDate  ParentId  Score  \\\n",
       "223454  223454  3835777     115145.0  2010-10-01T00:40:19Z   3835480      7   \n",
       "\n",
       "        Body_count  \n",
       "223454          25  "
      ],
      "text/html": "<div>\n<style scoped>\n    .dataframe tbody tr th:only-of-type {\n        vertical-align: middle;\n    }\n\n    .dataframe tbody tr th {\n        vertical-align: top;\n    }\n\n    .dataframe thead th {\n        text-align: right;\n    }\n</style>\n<table border=\"1\" class=\"dataframe\">\n  <thead>\n    <tr style=\"text-align: right;\">\n      <th></th>\n      <th>index</th>\n      <th>Id</th>\n      <th>OwnerUserId</th>\n      <th>CreationDate</th>\n      <th>ParentId</th>\n      <th>Score</th>\n      <th>Body_count</th>\n    </tr>\n  </thead>\n  <tbody>\n    <tr>\n      <th>223454</th>\n      <td>223454</td>\n      <td>3835777</td>\n      <td>115145.0</td>\n      <td>2010-10-01T00:40:19Z</td>\n      <td>3835480</td>\n      <td>7</td>\n      <td>25</td>\n    </tr>\n  </tbody>\n</table>\n</div>"
     },
     "metadata": {},
     "execution_count": 5
    }
   ],
   "source": [
    "Answer[Answer.eq(3835777).any(1)]"
   ]
  },
  {
   "cell_type": "code",
   "execution_count": 7,
   "metadata": {
    "tags": []
   },
   "outputs": [
    {
     "output_type": "execute_result",
     "data": {
      "text/plain": [
       "1223263"
      ]
     },
     "metadata": {},
     "execution_count": 7
    }
   ],
   "source": [
    "# clean redundency\n",
    "count = 0\n",
    "del_arr = []\n",
    "for idx, row_data in Question[:].iterrows():\n",
    "    #print(row_data)\n",
    "    if(row_data['Id'] not in Answer['ParentId']):\n",
    "        del_arr.append(idx)\n",
    "        '''if(row_data['ParentId'] in Answer['Id']):\n",
    "            print('subAnswer')'''\n",
    "        count+=1\n",
    "\n",
    "Question_trimmed = Question.drop(del_arr)\n",
    "\n",
    "import sqlite3, pandas\n",
    "cnx = sqlite3.connect('data/QAT_trimed.db')\n",
    "Question_trimmed.to_sql(name='Question_trimmed',con=cnx)\n",
    "\n",
    "count"
   ]
  },
  {
   "cell_type": "code",
   "execution_count": 8,
   "metadata": {},
   "outputs": [
    {
     "output_type": "execute_result",
     "data": {
      "text/plain": [
       "40953"
      ]
     },
     "metadata": {},
     "execution_count": 8
    }
   ],
   "source": [
    "len(Question_trimmed)"
   ]
  },
  {
   "cell_type": "code",
   "execution_count": 9,
   "metadata": {},
   "outputs": [
    {
     "output_type": "execute_result",
     "data": {
      "text/plain": [
       "1921260"
      ]
     },
     "metadata": {},
     "execution_count": 9
    }
   ],
   "source": [
    "count = 0\n",
    "for idx, row_data in Answer[:].iterrows():\n",
    "    #print(row_data)\n",
    "    if(row_data['ParentId'] not in Question['Id'] or row_data['ParentId'] not in Answer['Id']):\n",
    "        del_arr.append(idx)\n",
    "        '''if(row_data['ParentId'] in Answer['Id']):\n",
    "            print('subAnswer')'''\n",
    "        count+=1\n",
    "count"
   ]
  },
  {
   "cell_type": "code",
   "execution_count": 10,
   "metadata": {},
   "outputs": [
    {
     "output_type": "execute_result",
     "data": {
      "text/plain": [
       "2014516"
      ]
     },
     "metadata": {},
     "execution_count": 10
    }
   ],
   "source": [
    "len(Answer)"
   ]
  },
  {
   "cell_type": "code",
   "execution_count": 12,
   "metadata": {
    "tags": []
   },
   "outputs": [
    {
     "output_type": "stream",
     "name": "stdout",
     "text": [
      "yes\n"
     ]
    },
    {
     "output_type": "execute_result",
     "data": {
      "text/plain": [
       "0"
      ]
     },
     "metadata": {},
     "execution_count": 12
    }
   ],
   "source": [
    "# code works\n",
    "for idx, row_data in Answer[:].iterrows():\n",
    "    #print(row_data)\n",
    "    if(row_data['ParentId'] in Answer['Id']):\n",
    "        print('yes')\n",
    "        break"
   ]
  },
  {
   "cell_type": "code",
   "execution_count": 13,
   "metadata": {},
   "outputs": [
    {
     "output_type": "execute_result",
     "data": {
      "text/plain": [
       "1921260"
      ]
     },
     "metadata": {},
     "execution_count": 13
    }
   ],
   "source": [
    "count = 0\n",
    "for idx, row_data in Answer[:].iterrows():\n",
    "    #print(row_data)\n",
    "    if(row_data['ParentId'] not in Question['Id'] or row_data['ParentId'] not in Answer['Id']):\n",
    "        del_arr.append(idx) \n",
    "        count+=1\n",
    "Answer_trimmed = Answer.drop(del_arr)\n",
    "\n",
    "import sqlite3, pandas\n",
    "cnx = sqlite3.connect('data/QAT_trimed.db')\n",
    "Answer_trimmed.to_sql(name='Answer_trimmed',con=cnx)\n",
    "\n",
    "count"
   ]
  },
  {
   "cell_type": "code",
   "execution_count": 14,
   "metadata": {},
   "outputs": [
    {
     "output_type": "execute_result",
     "data": {
      "text/plain": [
       "44746"
      ]
     },
     "metadata": {},
     "execution_count": 14
    }
   ],
   "source": [
    "len(Answer_trimmed)"
   ]
  },
  {
   "cell_type": "code",
   "execution_count": 15,
   "metadata": {},
   "outputs": [
    {
     "output_type": "execute_result",
     "data": {
      "text/plain": [
       "           index        Id  OwnerUserId          CreationDate  ParentId  \\\n",
       "0              0        92         61.0  2008-08-01T14:45:37Z        90   \n",
       "1              1       124         26.0  2008-08-01T16:09:47Z        80   \n",
       "2              2       199         50.0  2008-08-01T19:36:46Z       180   \n",
       "3              3       269         91.0  2008-08-01T23:49:57Z       260   \n",
       "4              4       307         49.0  2008-08-02T01:49:46Z       260   \n",
       "5              5       332         59.0  2008-08-02T03:00:24Z       330   \n",
       "6              6       344        100.0  2008-08-02T04:18:15Z       260   \n",
       "7              7       359        119.0  2008-08-02T06:16:23Z       260   \n",
       "8              8       473         49.0  2008-08-02T15:33:13Z       470   \n",
       "9              9       529         86.0  2008-08-02T18:16:07Z       180   \n",
       "10            10       539        157.0  2008-08-02T19:03:52Z       180   \n",
       "11            11       585        149.0  2008-08-02T23:40:04Z       580   \n",
       "12            12       586         34.0  2008-08-02T23:51:09Z       580   \n",
       "13            13       590        116.0  2008-08-03T00:22:03Z       580   \n",
       "14            14       591        111.0  2008-08-03T00:37:03Z       580   \n",
       "15            15       597         76.0  2008-08-03T01:38:02Z       580   \n",
       "16            16       655         91.0  2008-08-03T11:41:38Z       650   \n",
       "17            17       787        175.0  2008-08-03T18:46:33Z       650   \n",
       "18            18       818        233.0  2008-08-03T20:45:27Z       810   \n",
       "19            19       820         91.0  2008-08-03T20:48:47Z       810   \n",
       "20            20       829        234.0  2008-08-03T21:17:33Z       810   \n",
       "21            21       870        233.0  2008-08-03T22:34:06Z       810   \n",
       "22            22       940        243.0  2008-08-04T01:07:14Z       930   \n",
       "23            23       951         49.0  2008-08-04T01:31:31Z       930   \n",
       "24            24      1022         93.0  2008-08-04T04:45:05Z       930   \n",
       "25            25      1043         55.0  2008-08-04T05:59:53Z      1040   \n",
       "26            26      1044        227.0  2008-08-04T06:01:52Z      1040   \n",
       "27            27      1049        234.0  2008-08-04T06:12:11Z      1040   \n",
       "28            28      1050        234.0  2008-08-04T06:14:42Z      1040   \n",
       "29            29      1051          NaN  2008-08-04T06:15:30Z      1040   \n",
       "...          ...       ...          ...                   ...       ...   \n",
       "2008481  2008481  40015112    6892742.0  2016-10-13T07:44:42Z    779370   \n",
       "2008696  2008696  40019917    1766100.0  2016-10-13T11:38:09Z    557340   \n",
       "2008838  2008838  40022733     247441.0  2016-10-13T13:43:00Z    253030   \n",
       "2009216  2009216  40030467        234.0  2016-10-13T20:33:42Z    527610   \n",
       "2009483  2009483  40036138    6935554.0  2016-10-14T06:13:00Z    558360   \n",
       "2009672  2009672  40040733    1488067.0  2016-10-14T10:18:01Z    160930   \n",
       "2009828  2009828  40043840    1367450.0  2016-10-14T13:00:55Z    940930   \n",
       "2010103  2010103  40049367    7020693.0  2016-10-14T17:58:48Z     98310   \n",
       "2010713  2010713  40062403     337128.0  2016-10-15T17:58:14Z    894860   \n",
       "2011008  2011008  40068500    2400485.0  2016-10-16T08:43:36Z     40480   \n",
       "2011017  2011017  40068623     216812.0  2016-10-16T09:01:39Z    751850   \n",
       "2011062  2011062  40070188    6806960.0  2016-10-16T12:21:30Z   1120140   \n",
       "2011128  2011128  40071790    6779095.0  2016-10-16T15:07:49Z    352670   \n",
       "2011206  2011206  40073806    7027695.0  2016-10-16T18:21:00Z    194930   \n",
       "2011485  2011485  40079659    6512693.0  2016-10-17T06:19:44Z   1248510   \n",
       "2011552  2011552  40081126    1561433.0  2016-10-17T07:54:46Z    882070   \n",
       "2011582  2011582  40081957    1934469.0  2016-10-17T08:44:33Z    792460   \n",
       "2012554  2012554  40103004    1402759.0  2016-10-18T08:15:52Z    293800   \n",
       "2013147  2013147  40114596    6460524.0  2016-10-18T17:34:27Z      3400   \n",
       "2013197  2013197  40115574    2440976.0  2016-10-18T18:32:53Z   1227130   \n",
       "2013211  2013211  40116002    3631402.0  2016-10-18T18:58:58Z    519520   \n",
       "2013213  2013213  40116016    3418445.0  2016-10-18T19:00:00Z    517970   \n",
       "2013217  2013217  40116095     868941.0  2016-10-18T19:03:53Z    477550   \n",
       "2013240  2013240  40116645    2061991.0  2016-10-18T19:36:33Z   1154410   \n",
       "2013346  2013346  40118371    7038953.0  2016-10-18T21:26:53Z    139180   \n",
       "2013745  2013745  40126988     524743.0  2016-10-19T09:11:43Z    641420   \n",
       "2013909  2013909  40131005     870949.0  2016-10-19T12:07:22Z    518000   \n",
       "2013930  2013930  40131354    5756850.0  2016-10-19T12:25:28Z    376090   \n",
       "2014208  2014208  40137049       9034.0  2016-10-19T16:36:15Z    444820   \n",
       "2014227  2014227  40137579     408098.0  2016-10-19T17:07:19Z   1091740   \n",
       "\n",
       "         Score  Body_count  \n",
       "0           13          18  \n",
       "1           12          59  \n",
       "2            1         279  \n",
       "3            4         159  \n",
       "4           28         137  \n",
       "5           19         131  \n",
       "6            6          73  \n",
       "7            5          63  \n",
       "8            8         108  \n",
       "9            3          52  \n",
       "10          21         190  \n",
       "11          13          76  \n",
       "12          17          95  \n",
       "13           2          52  \n",
       "14           3         295  \n",
       "15           1          60  \n",
       "16          69         172  \n",
       "17           4          54  \n",
       "18           0          53  \n",
       "19           3         148  \n",
       "20           4         184  \n",
       "21           0          85  \n",
       "22          15         100  \n",
       "23          26         164  \n",
       "24           9          62  \n",
       "25           2         164  \n",
       "26          32          59  \n",
       "27           5         137  \n",
       "28           1          73  \n",
       "29          11         174  \n",
       "...        ...         ...  \n",
       "2008481      1          55  \n",
       "2008696      0          11  \n",
       "2008838      0         175  \n",
       "2009216      0          26  \n",
       "2009483      0          48  \n",
       "2009672      2        1074  \n",
       "2009828      0          52  \n",
       "2010103      1          64  \n",
       "2010713      0         427  \n",
       "2011008      0         245  \n",
       "2011017      0          61  \n",
       "2011062      0         197  \n",
       "2011128      0         107  \n",
       "2011206     -2          38  \n",
       "2011485      0         790  \n",
       "2011552      0          17  \n",
       "2011582      0         454  \n",
       "2012554      0          45  \n",
       "2013147      0          53  \n",
       "2013197      0          86  \n",
       "2013211      0          33  \n",
       "2013213      0          24  \n",
       "2013217      0          88  \n",
       "2013240      1         275  \n",
       "2013346     -1          18  \n",
       "2013745      0         696  \n",
       "2013909     -1         159  \n",
       "2013930      0         602  \n",
       "2014208      0          59  \n",
       "2014227      0         310  \n",
       "\n",
       "[44746 rows x 7 columns]"
      ],
      "text/html": "<div>\n<style scoped>\n    .dataframe tbody tr th:only-of-type {\n        vertical-align: middle;\n    }\n\n    .dataframe tbody tr th {\n        vertical-align: top;\n    }\n\n    .dataframe thead th {\n        text-align: right;\n    }\n</style>\n<table border=\"1\" class=\"dataframe\">\n  <thead>\n    <tr style=\"text-align: right;\">\n      <th></th>\n      <th>index</th>\n      <th>Id</th>\n      <th>OwnerUserId</th>\n      <th>CreationDate</th>\n      <th>ParentId</th>\n      <th>Score</th>\n      <th>Body_count</th>\n    </tr>\n  </thead>\n  <tbody>\n    <tr>\n      <th>0</th>\n      <td>0</td>\n      <td>92</td>\n      <td>61.0</td>\n      <td>2008-08-01T14:45:37Z</td>\n      <td>90</td>\n      <td>13</td>\n      <td>18</td>\n    </tr>\n    <tr>\n      <th>1</th>\n      <td>1</td>\n      <td>124</td>\n      <td>26.0</td>\n      <td>2008-08-01T16:09:47Z</td>\n      <td>80</td>\n      <td>12</td>\n      <td>59</td>\n    </tr>\n    <tr>\n      <th>2</th>\n      <td>2</td>\n      <td>199</td>\n      <td>50.0</td>\n      <td>2008-08-01T19:36:46Z</td>\n      <td>180</td>\n      <td>1</td>\n      <td>279</td>\n    </tr>\n    <tr>\n      <th>3</th>\n      <td>3</td>\n      <td>269</td>\n      <td>91.0</td>\n      <td>2008-08-01T23:49:57Z</td>\n      <td>260</td>\n      <td>4</td>\n      <td>159</td>\n    </tr>\n    <tr>\n      <th>4</th>\n      <td>4</td>\n      <td>307</td>\n      <td>49.0</td>\n      <td>2008-08-02T01:49:46Z</td>\n      <td>260</td>\n      <td>28</td>\n      <td>137</td>\n    </tr>\n    <tr>\n      <th>5</th>\n      <td>5</td>\n      <td>332</td>\n      <td>59.0</td>\n      <td>2008-08-02T03:00:24Z</td>\n      <td>330</td>\n      <td>19</td>\n      <td>131</td>\n    </tr>\n    <tr>\n      <th>6</th>\n      <td>6</td>\n      <td>344</td>\n      <td>100.0</td>\n      <td>2008-08-02T04:18:15Z</td>\n      <td>260</td>\n      <td>6</td>\n      <td>73</td>\n    </tr>\n    <tr>\n      <th>7</th>\n      <td>7</td>\n      <td>359</td>\n      <td>119.0</td>\n      <td>2008-08-02T06:16:23Z</td>\n      <td>260</td>\n      <td>5</td>\n      <td>63</td>\n    </tr>\n    <tr>\n      <th>8</th>\n      <td>8</td>\n      <td>473</td>\n      <td>49.0</td>\n      <td>2008-08-02T15:33:13Z</td>\n      <td>470</td>\n      <td>8</td>\n      <td>108</td>\n    </tr>\n    <tr>\n      <th>9</th>\n      <td>9</td>\n      <td>529</td>\n      <td>86.0</td>\n      <td>2008-08-02T18:16:07Z</td>\n      <td>180</td>\n      <td>3</td>\n      <td>52</td>\n    </tr>\n    <tr>\n      <th>10</th>\n      <td>10</td>\n      <td>539</td>\n      <td>157.0</td>\n      <td>2008-08-02T19:03:52Z</td>\n      <td>180</td>\n      <td>21</td>\n      <td>190</td>\n    </tr>\n    <tr>\n      <th>11</th>\n      <td>11</td>\n      <td>585</td>\n      <td>149.0</td>\n      <td>2008-08-02T23:40:04Z</td>\n      <td>580</td>\n      <td>13</td>\n      <td>76</td>\n    </tr>\n    <tr>\n      <th>12</th>\n      <td>12</td>\n      <td>586</td>\n      <td>34.0</td>\n      <td>2008-08-02T23:51:09Z</td>\n      <td>580</td>\n      <td>17</td>\n      <td>95</td>\n    </tr>\n    <tr>\n      <th>13</th>\n      <td>13</td>\n      <td>590</td>\n      <td>116.0</td>\n      <td>2008-08-03T00:22:03Z</td>\n      <td>580</td>\n      <td>2</td>\n      <td>52</td>\n    </tr>\n    <tr>\n      <th>14</th>\n      <td>14</td>\n      <td>591</td>\n      <td>111.0</td>\n      <td>2008-08-03T00:37:03Z</td>\n      <td>580</td>\n      <td>3</td>\n      <td>295</td>\n    </tr>\n    <tr>\n      <th>15</th>\n      <td>15</td>\n      <td>597</td>\n      <td>76.0</td>\n      <td>2008-08-03T01:38:02Z</td>\n      <td>580</td>\n      <td>1</td>\n      <td>60</td>\n    </tr>\n    <tr>\n      <th>16</th>\n      <td>16</td>\n      <td>655</td>\n      <td>91.0</td>\n      <td>2008-08-03T11:41:38Z</td>\n      <td>650</td>\n      <td>69</td>\n      <td>172</td>\n    </tr>\n    <tr>\n      <th>17</th>\n      <td>17</td>\n      <td>787</td>\n      <td>175.0</td>\n      <td>2008-08-03T18:46:33Z</td>\n      <td>650</td>\n      <td>4</td>\n      <td>54</td>\n    </tr>\n    <tr>\n      <th>18</th>\n      <td>18</td>\n      <td>818</td>\n      <td>233.0</td>\n      <td>2008-08-03T20:45:27Z</td>\n      <td>810</td>\n      <td>0</td>\n      <td>53</td>\n    </tr>\n    <tr>\n      <th>19</th>\n      <td>19</td>\n      <td>820</td>\n      <td>91.0</td>\n      <td>2008-08-03T20:48:47Z</td>\n      <td>810</td>\n      <td>3</td>\n      <td>148</td>\n    </tr>\n    <tr>\n      <th>20</th>\n      <td>20</td>\n      <td>829</td>\n      <td>234.0</td>\n      <td>2008-08-03T21:17:33Z</td>\n      <td>810</td>\n      <td>4</td>\n      <td>184</td>\n    </tr>\n    <tr>\n      <th>21</th>\n      <td>21</td>\n      <td>870</td>\n      <td>233.0</td>\n      <td>2008-08-03T22:34:06Z</td>\n      <td>810</td>\n      <td>0</td>\n      <td>85</td>\n    </tr>\n    <tr>\n      <th>22</th>\n      <td>22</td>\n      <td>940</td>\n      <td>243.0</td>\n      <td>2008-08-04T01:07:14Z</td>\n      <td>930</td>\n      <td>15</td>\n      <td>100</td>\n    </tr>\n    <tr>\n      <th>23</th>\n      <td>23</td>\n      <td>951</td>\n      <td>49.0</td>\n      <td>2008-08-04T01:31:31Z</td>\n      <td>930</td>\n      <td>26</td>\n      <td>164</td>\n    </tr>\n    <tr>\n      <th>24</th>\n      <td>24</td>\n      <td>1022</td>\n      <td>93.0</td>\n      <td>2008-08-04T04:45:05Z</td>\n      <td>930</td>\n      <td>9</td>\n      <td>62</td>\n    </tr>\n    <tr>\n      <th>25</th>\n      <td>25</td>\n      <td>1043</td>\n      <td>55.0</td>\n      <td>2008-08-04T05:59:53Z</td>\n      <td>1040</td>\n      <td>2</td>\n      <td>164</td>\n    </tr>\n    <tr>\n      <th>26</th>\n      <td>26</td>\n      <td>1044</td>\n      <td>227.0</td>\n      <td>2008-08-04T06:01:52Z</td>\n      <td>1040</td>\n      <td>32</td>\n      <td>59</td>\n    </tr>\n    <tr>\n      <th>27</th>\n      <td>27</td>\n      <td>1049</td>\n      <td>234.0</td>\n      <td>2008-08-04T06:12:11Z</td>\n      <td>1040</td>\n      <td>5</td>\n      <td>137</td>\n    </tr>\n    <tr>\n      <th>28</th>\n      <td>28</td>\n      <td>1050</td>\n      <td>234.0</td>\n      <td>2008-08-04T06:14:42Z</td>\n      <td>1040</td>\n      <td>1</td>\n      <td>73</td>\n    </tr>\n    <tr>\n      <th>29</th>\n      <td>29</td>\n      <td>1051</td>\n      <td>NaN</td>\n      <td>2008-08-04T06:15:30Z</td>\n      <td>1040</td>\n      <td>11</td>\n      <td>174</td>\n    </tr>\n    <tr>\n      <th>...</th>\n      <td>...</td>\n      <td>...</td>\n      <td>...</td>\n      <td>...</td>\n      <td>...</td>\n      <td>...</td>\n      <td>...</td>\n    </tr>\n    <tr>\n      <th>2008481</th>\n      <td>2008481</td>\n      <td>40015112</td>\n      <td>6892742.0</td>\n      <td>2016-10-13T07:44:42Z</td>\n      <td>779370</td>\n      <td>1</td>\n      <td>55</td>\n    </tr>\n    <tr>\n      <th>2008696</th>\n      <td>2008696</td>\n      <td>40019917</td>\n      <td>1766100.0</td>\n      <td>2016-10-13T11:38:09Z</td>\n      <td>557340</td>\n      <td>0</td>\n      <td>11</td>\n    </tr>\n    <tr>\n      <th>2008838</th>\n      <td>2008838</td>\n      <td>40022733</td>\n      <td>247441.0</td>\n      <td>2016-10-13T13:43:00Z</td>\n      <td>253030</td>\n      <td>0</td>\n      <td>175</td>\n    </tr>\n    <tr>\n      <th>2009216</th>\n      <td>2009216</td>\n      <td>40030467</td>\n      <td>234.0</td>\n      <td>2016-10-13T20:33:42Z</td>\n      <td>527610</td>\n      <td>0</td>\n      <td>26</td>\n    </tr>\n    <tr>\n      <th>2009483</th>\n      <td>2009483</td>\n      <td>40036138</td>\n      <td>6935554.0</td>\n      <td>2016-10-14T06:13:00Z</td>\n      <td>558360</td>\n      <td>0</td>\n      <td>48</td>\n    </tr>\n    <tr>\n      <th>2009672</th>\n      <td>2009672</td>\n      <td>40040733</td>\n      <td>1488067.0</td>\n      <td>2016-10-14T10:18:01Z</td>\n      <td>160930</td>\n      <td>2</td>\n      <td>1074</td>\n    </tr>\n    <tr>\n      <th>2009828</th>\n      <td>2009828</td>\n      <td>40043840</td>\n      <td>1367450.0</td>\n      <td>2016-10-14T13:00:55Z</td>\n      <td>940930</td>\n      <td>0</td>\n      <td>52</td>\n    </tr>\n    <tr>\n      <th>2010103</th>\n      <td>2010103</td>\n      <td>40049367</td>\n      <td>7020693.0</td>\n      <td>2016-10-14T17:58:48Z</td>\n      <td>98310</td>\n      <td>1</td>\n      <td>64</td>\n    </tr>\n    <tr>\n      <th>2010713</th>\n      <td>2010713</td>\n      <td>40062403</td>\n      <td>337128.0</td>\n      <td>2016-10-15T17:58:14Z</td>\n      <td>894860</td>\n      <td>0</td>\n      <td>427</td>\n    </tr>\n    <tr>\n      <th>2011008</th>\n      <td>2011008</td>\n      <td>40068500</td>\n      <td>2400485.0</td>\n      <td>2016-10-16T08:43:36Z</td>\n      <td>40480</td>\n      <td>0</td>\n      <td>245</td>\n    </tr>\n    <tr>\n      <th>2011017</th>\n      <td>2011017</td>\n      <td>40068623</td>\n      <td>216812.0</td>\n      <td>2016-10-16T09:01:39Z</td>\n      <td>751850</td>\n      <td>0</td>\n      <td>61</td>\n    </tr>\n    <tr>\n      <th>2011062</th>\n      <td>2011062</td>\n      <td>40070188</td>\n      <td>6806960.0</td>\n      <td>2016-10-16T12:21:30Z</td>\n      <td>1120140</td>\n      <td>0</td>\n      <td>197</td>\n    </tr>\n    <tr>\n      <th>2011128</th>\n      <td>2011128</td>\n      <td>40071790</td>\n      <td>6779095.0</td>\n      <td>2016-10-16T15:07:49Z</td>\n      <td>352670</td>\n      <td>0</td>\n      <td>107</td>\n    </tr>\n    <tr>\n      <th>2011206</th>\n      <td>2011206</td>\n      <td>40073806</td>\n      <td>7027695.0</td>\n      <td>2016-10-16T18:21:00Z</td>\n      <td>194930</td>\n      <td>-2</td>\n      <td>38</td>\n    </tr>\n    <tr>\n      <th>2011485</th>\n      <td>2011485</td>\n      <td>40079659</td>\n      <td>6512693.0</td>\n      <td>2016-10-17T06:19:44Z</td>\n      <td>1248510</td>\n      <td>0</td>\n      <td>790</td>\n    </tr>\n    <tr>\n      <th>2011552</th>\n      <td>2011552</td>\n      <td>40081126</td>\n      <td>1561433.0</td>\n      <td>2016-10-17T07:54:46Z</td>\n      <td>882070</td>\n      <td>0</td>\n      <td>17</td>\n    </tr>\n    <tr>\n      <th>2011582</th>\n      <td>2011582</td>\n      <td>40081957</td>\n      <td>1934469.0</td>\n      <td>2016-10-17T08:44:33Z</td>\n      <td>792460</td>\n      <td>0</td>\n      <td>454</td>\n    </tr>\n    <tr>\n      <th>2012554</th>\n      <td>2012554</td>\n      <td>40103004</td>\n      <td>1402759.0</td>\n      <td>2016-10-18T08:15:52Z</td>\n      <td>293800</td>\n      <td>0</td>\n      <td>45</td>\n    </tr>\n    <tr>\n      <th>2013147</th>\n      <td>2013147</td>\n      <td>40114596</td>\n      <td>6460524.0</td>\n      <td>2016-10-18T17:34:27Z</td>\n      <td>3400</td>\n      <td>0</td>\n      <td>53</td>\n    </tr>\n    <tr>\n      <th>2013197</th>\n      <td>2013197</td>\n      <td>40115574</td>\n      <td>2440976.0</td>\n      <td>2016-10-18T18:32:53Z</td>\n      <td>1227130</td>\n      <td>0</td>\n      <td>86</td>\n    </tr>\n    <tr>\n      <th>2013211</th>\n      <td>2013211</td>\n      <td>40116002</td>\n      <td>3631402.0</td>\n      <td>2016-10-18T18:58:58Z</td>\n      <td>519520</td>\n      <td>0</td>\n      <td>33</td>\n    </tr>\n    <tr>\n      <th>2013213</th>\n      <td>2013213</td>\n      <td>40116016</td>\n      <td>3418445.0</td>\n      <td>2016-10-18T19:00:00Z</td>\n      <td>517970</td>\n      <td>0</td>\n      <td>24</td>\n    </tr>\n    <tr>\n      <th>2013217</th>\n      <td>2013217</td>\n      <td>40116095</td>\n      <td>868941.0</td>\n      <td>2016-10-18T19:03:53Z</td>\n      <td>477550</td>\n      <td>0</td>\n      <td>88</td>\n    </tr>\n    <tr>\n      <th>2013240</th>\n      <td>2013240</td>\n      <td>40116645</td>\n      <td>2061991.0</td>\n      <td>2016-10-18T19:36:33Z</td>\n      <td>1154410</td>\n      <td>1</td>\n      <td>275</td>\n    </tr>\n    <tr>\n      <th>2013346</th>\n      <td>2013346</td>\n      <td>40118371</td>\n      <td>7038953.0</td>\n      <td>2016-10-18T21:26:53Z</td>\n      <td>139180</td>\n      <td>-1</td>\n      <td>18</td>\n    </tr>\n    <tr>\n      <th>2013745</th>\n      <td>2013745</td>\n      <td>40126988</td>\n      <td>524743.0</td>\n      <td>2016-10-19T09:11:43Z</td>\n      <td>641420</td>\n      <td>0</td>\n      <td>696</td>\n    </tr>\n    <tr>\n      <th>2013909</th>\n      <td>2013909</td>\n      <td>40131005</td>\n      <td>870949.0</td>\n      <td>2016-10-19T12:07:22Z</td>\n      <td>518000</td>\n      <td>-1</td>\n      <td>159</td>\n    </tr>\n    <tr>\n      <th>2013930</th>\n      <td>2013930</td>\n      <td>40131354</td>\n      <td>5756850.0</td>\n      <td>2016-10-19T12:25:28Z</td>\n      <td>376090</td>\n      <td>0</td>\n      <td>602</td>\n    </tr>\n    <tr>\n      <th>2014208</th>\n      <td>2014208</td>\n      <td>40137049</td>\n      <td>9034.0</td>\n      <td>2016-10-19T16:36:15Z</td>\n      <td>444820</td>\n      <td>0</td>\n      <td>59</td>\n    </tr>\n    <tr>\n      <th>2014227</th>\n      <td>2014227</td>\n      <td>40137579</td>\n      <td>408098.0</td>\n      <td>2016-10-19T17:07:19Z</td>\n      <td>1091740</td>\n      <td>0</td>\n      <td>310</td>\n    </tr>\n  </tbody>\n</table>\n<p>44746 rows × 7 columns</p>\n</div>"
     },
     "metadata": {},
     "execution_count": 15
    }
   ],
   "source": [
    "Answer_trimmed"
   ]
  },
  {
   "cell_type": "code",
   "execution_count": null,
   "metadata": {},
   "outputs": [],
   "source": []
  }
 ],
 "metadata": {
  "kernelspec": {
   "display_name": "Python 3.6.9 64-bit",
   "language": "python",
   "name": "python36964bit9e4a341e6cd34e1fa5fa544aa3e2bd6d"
  },
  "language_info": {
   "codemirror_mode": {
    "name": "ipython",
    "version": 3
   },
   "file_extension": ".py",
   "mimetype": "text/x-python",
   "name": "python",
   "nbconvert_exporter": "python",
   "pygments_lexer": "ipython3",
   "version": "3.6.9-final"
  }
 },
 "nbformat": 4,
 "nbformat_minor": 2
}