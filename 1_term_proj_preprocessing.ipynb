{
 "metadata": {
  "language_info": {
   "codemirror_mode": {
    "name": "ipython",
    "version": 3
   },
   "file_extension": ".py",
   "mimetype": "text/x-python",
   "name": "python",
   "nbconvert_exporter": "python",
   "pygments_lexer": "ipython3",
   "version": "3.8.2-final"
  },
  "orig_nbformat": 2,
  "kernelspec": {
   "name": "python3",
   "display_name": "Python 3.8.2 64-bit",
   "metadata": {
    "interpreter": {
     "hash": "95e24f6d028694f957b1106e412d23c4f9ba09e8613c65a2aeaf0c0e73a5daa1"
    }
   }
  }
 },
 "nbformat": 4,
 "nbformat_minor": 2,
 "cells": [
  {
   "source": [
    "# Data preprocess 2"
   ],
   "cell_type": "markdown",
   "metadata": {}
  },
  {
   "cell_type": "code",
   "execution_count": 1,
   "metadata": {},
   "outputs": [
    {
     "output_type": "stream",
     "name": "stdout",
     "text": [
      "Load Data\n"
     ]
    }
   ],
   "source": [
    "# Preprocess 3 Select Interested Data By Question Id\n",
    "# ---------------------------------------------\n",
    "\n",
    "import pandas\n",
    "\n",
    "## Load trimmed data\n",
    "Answer = pandas.read_sql('Answer_trimmed', \"sqlite:///data/QAT_trimmed.db\", index_col='index')\n",
    "Question = pandas.read_sql('Question_trimmed', \"sqlite:///data/QAT_trimmed.db\", index_col='index')\n",
    "print(\"Load Data\")"
   ]
  },
  {
   "cell_type": "code",
   "execution_count": 2,
   "metadata": {},
   "outputs": [
    {
     "output_type": "stream",
     "name": "stdout",
     "text": [
      "Sort data\n"
     ]
    }
   ],
   "source": [
    "## Sort data by CreationDate_to_datetime & Score\n",
    "Answer_sorted_score = Answer.sort_values(by=['ParentId','Score','CreationDate_to_datetime'],ascending=[1,0,1])\n",
    "Answer_sorted_time = Answer.sort_values(by=['ParentId','CreationDate_to_datetime'])\n",
    "Question_sorted_Id = Question.sort_values(by=['Id'])\n",
    "print(\"Sort data\")"
   ]
  },
  {
   "cell_type": "code",
   "execution_count": 3,
   "metadata": {},
   "outputs": [
    {
     "output_type": "stream",
     "name": "stdout",
     "text": [
      "###############################################################################################################\n",
      "finished\n"
     ]
    }
   ],
   "source": [
    "## Select interested data, and put into Question dataframe\n",
    "\n",
    "## Create iterator\n",
    "time_gen = Answer_sorted_time.iterrows()\n",
    "score_gen = Answer_sorted_score.iterrows()\n",
    "count = 0\n",
    "next_score_data = next(score_gen)\n",
    "next_time_data = next(time_gen)\n",
    "\n",
    "for idx, row in Question_sorted_Id.iterrows():\n",
    "    ## Put first data into Question dataframe by row\n",
    "    Question_sorted_Id.at[idx,'BestAnsTime'] = next_score_data[1]['CreationDate_to_datetime']\n",
    "    Question_sorted_Id.at[idx,'FirstAnsTime'] = next_time_data[1]['CreationDate_to_datetime']\n",
    "    next_score_data = next(score_gen)\n",
    "    next_time_data = next(time_gen)\n",
    "\n",
    "    ## Skip other data\n",
    "    while(next_score_data[1]['ParentId'] == row['Id']):\n",
    "        try:\n",
    "            next_score_data = next(score_gen)\n",
    "            next_time_data = next(time_gen)\n",
    "        except StopIteration:\n",
    "            print('\\nfinished')\n",
    "            break\n",
    "    if count % 10000 == 0:\n",
    "        print('#', end='')\n",
    "    count+=1\n"
   ]
  },
  {
   "cell_type": "code",
   "execution_count": 4,
   "metadata": {},
   "outputs": [
    {
     "output_type": "stream",
     "name": "stdout",
     "text": [
      "Store Final Data to DB\n"
     ]
    }
   ],
   "source": [
    "## Store data to another DB\n",
    "Question_sorted_Id = Question_sorted_Id.drop(columns=['OwnerUserId','ClosedDate'])\n",
    "Question_sorted_Id.to_sql('Question', \"sqlite:///data/QAT_final.db\",  if_exists = \"replace\")\n",
    "print(\"Store Final Data to DB\")\n",
    "# ---------------------------------------------"
   ]
  }
 ]
}