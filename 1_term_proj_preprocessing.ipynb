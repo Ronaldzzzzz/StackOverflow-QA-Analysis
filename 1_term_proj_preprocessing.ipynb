{
 "metadata": {
  "language_info": {
   "codemirror_mode": {
    "name": "ipython",
    "version": 3
   },
   "file_extension": ".py",
   "mimetype": "text/x-python",
   "name": "python",
   "nbconvert_exporter": "python",
   "pygments_lexer": "ipython3",
   "version": "3.6.9-final"
  },
  "orig_nbformat": 2,
  "kernelspec": {
   "name": "python36964bit9e4a341e6cd34e1fa5fa544aa3e2bd6d",
   "display_name": "Python 3.6.9 64-bit"
  }
 },
 "nbformat": 4,
 "nbformat_minor": 2,
 "cells": [
  {
   "source": [
    "# Data preprocess 2"
   ],
   "cell_type": "markdown",
   "metadata": {}
  },
  {
   "cell_type": "code",
   "execution_count": null,
   "metadata": {},
   "outputs": [],
   "source": [
    "# Preprocess 3 Select Interested Data By Question Id\n",
    "# ---------------------------------------------\n",
    "\n",
    "import pandas\n",
    "\n",
    "## Load trimmed data\n",
    "Answer = pandas.read_sql('Answer_trimmed', \"sqlite:///data/QAT_trimmed.db\", index_col='index')\n",
    "Question = pandas.read_sql('Question_trimmed', \"sqlite:///data/QAT_trimmed.db\", index_col='index')\n",
    "print(\"Load Data\")"
   ]
  },
  {
   "cell_type": "code",
   "execution_count": null,
   "metadata": {},
   "outputs": [],
   "source": [
    "## Sort data by CreationDate_to_datetime & Score\n",
    "Answer_sorted_score = Answer.sort_values(by=['ParentId','Score','CreationDate_to_datetime'],ascending=[1,0,1])\n",
    "Answer_sorted_time = Answer.sort_values(by=['ParentId','CreationDate_to_datetime'])\n",
    "Question_sorted_Id = Question.sort_values(by=['Id'])\n",
    "print(\"Sort data\")"
   ]
  },
  {
   "cell_type": "code",
   "execution_count": null,
   "metadata": {},
   "outputs": [],
   "source": [
    "## Select interested data, and put into Question dataframe\n",
    "\n",
    "## Create iterator\n",
    "time_gen = Answer_sorted_time.iterrows()\n",
    "score_gen = Answer_sorted_score.iterrows()\n",
    "count = 0\n",
    "next_score_data = next(score_gen)\n",
    "next_time_data = next(time_gen)\n",
    "\n",
    "for idx, row in Question_sorted_Id.iterrows():\n",
    "    ## Put first data into Question dataframe by row\n",
    "    Question_sorted_Id.at[idx,'BestAnsTime'] = next_score_data[1]['CreationDate_to_datetime']\n",
    "    Question_sorted_Id.at[idx,'FirstAnsTime'] = next_time_data[1]['CreationDate_to_datetime']\n",
    "    next_score_data = next(score_gen)\n",
    "    next_time_data = next(time_gen)\n",
    "\n",
    "    ## Skip other data\n",
    "    while(next_score_data[1]['ParentId'] == row['Id']):\n",
    "        try:\n",
    "            next_score_data = next(score_gen)\n",
    "            next_time_data = next(time_gen)\n",
    "        except StopIteration:\n",
    "            print('\\nfinished')\n",
    "            break\n",
    "    if count % 10000 == 0:\n",
    "        print('#', end='')\n",
    "    count+=1\n"
   ]
  },
  {
   "cell_type": "code",
   "execution_count": null,
   "metadata": {},
   "outputs": [],
   "source": [
    "## Store data to another DB\n",
    "Question_sorted_Id = Question_sorted_Id.drop(columns=['OwnerUserId','ClosedDate'])\n",
    "Question_sorted_Id.to_sql('Question', \"sqlite:///data/QAT_final.db\",  if_exists = \"replace\")\n",
    "print(\"Store Final Data to DB\")\n",
    "# ---------------------------------------------"
   ]
  }
 ]
}