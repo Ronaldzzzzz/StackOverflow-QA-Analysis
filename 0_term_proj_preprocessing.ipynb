{
 "cells": [
  {
   "source": [
    "# Data preprocess"
   ],
   "cell_type": "markdown",
   "metadata": {}
  },
  {
   "cell_type": "code",
   "execution_count": 1,
   "metadata": {},
   "outputs": [
    {
     "output_type": "stream",
     "name": "stdout",
     "text": [
      "load data\n",
      "Drop useless columns\n",
      "Count contents\n",
      "Store data in a DB\n"
     ]
    }
   ],
   "source": [
    "# Preprocess 1 Raw to database\n",
    "# ---------------------------------------------\n",
    "import sqlite3, pandas, dask.dataframe as dd \n",
    "\n",
    "## Load data\n",
    "rawAnswer = pandas.read_csv(\"data/Answers.csv\", encoding=\"latin1\")\n",
    "rawQuestions = pandas.read_csv(\"data/Questions.csv\",encoding=\"latin1\")\n",
    "rawTags = pandas.read_csv(\"data/Tags.csv\", encoding=\"latin1\")\n",
    "print(\"load data\")\n",
    "\n",
    "## Drop useless columns\n",
    "rawAnswer.drop(columns = [\"OwnerUserId\"])\n",
    "rawQuestions.drop(columns = [\"ClosedDate\", \"ClosedDate\"])\n",
    "print(\"Drop useless columns\")\n",
    "\n",
    "## Count contents\n",
    "for i in range(len(rawAnswer)):\n",
    "    rawAnswer.at[i, \"Body\"] = len(str(rawAnswer.loc[i][\"Body\"]).split(\" \"))\n",
    "\n",
    "for i in range(len(rawQuestions)):\n",
    "    rawQuestions.at[i, \"Body\"] = len(str(rawQuestions.loc[i][\"Body\"]).split(\" \"))\n",
    "    rawQuestions.at[i, \"Title\"] = len(str(rawQuestions.loc[i][\"Title\"]).split(\" \"))\n",
    "print(\"Count contents\")\n",
    "\n",
    "## Store data in a DB\n",
    "cnx = sqlite3.connect('data/QAT.db')\n",
    "\n",
    "rawAnswer.to_sql(name='Answer', con=cnx,  if_exists = \"replace\")\n",
    "rawQuestions.to_sql(name='Question', con=cnx,  if_exists = \"replace\")\n",
    "rawTags.to_sql(name='Tag', con=cnx,  if_exists = \"replace\")\n",
    "print(\"Store data in a DB\")\n",
    "# ---------------------------------------------"
   ]
  },
  {
   "cell_type": "code",
   "execution_count": 2,
   "metadata": {},
   "outputs": [
    {
     "output_type": "stream",
     "name": "stdout",
     "text": [
      "remove unanswered questions\n",
      "change time text to float timestamp\n"
     ]
    }
   ],
   "source": [
    "# Preprocess 2 Remove redundancy\n",
    "# Some of the Question has no answer, should be removed\n",
    "# ---------------------------------------------\n",
    "\n",
    "Answer = dd.read_sql_table('Answer', \"sqlite:///data/QAT.db\", index_col='index')\n",
    "Tag = dd.read_sql_table('Tag', \"sqlite:///data/QAT.db\", index_col='index')\n",
    "Question = dd.read_sql_table('Question', \"sqlite:///data/QAT.db\", index_col='index')\n",
    "\n",
    "## Get Parent Id from Answer\n",
    "pid = list(Answer[\"ParentId\"])\n",
    "pid = set(pid)\n",
    "## Checking the existence\n",
    "Question = Question[Question.Id.isin(pid)]\n",
    "Question = Question.compute()\n",
    "Answer = Answer.compute()\n",
    "print('remove unanswered questions')\n",
    "\n",
    "def column_time_text_to_datetime(df,label):\n",
    "    to_datetime = []\n",
    "    for idx, row_data in df.iterrows():\n",
    "        date_time_obj = datetime.datetime.strptime(row_data[label], '%Y-%m-%dT%H:%M:%SZ')\n",
    "        to_datetime.append(date_time_obj.timestamp())\n",
    "    df = df.drop(columns=[label])\n",
    "    df.insert(len(df.columns),label+'_to_datetime',to_datetime, True)\n",
    "    return df\n",
    "\n",
    "Answer = column_time_text_to_datetime(Answer,\"CreationDate\")\n",
    "Question = column_time_text_to_datetime(Question,\"CreationDate\")\n",
    "print(\"change time text to float timestamp\")\n",
    "\n",
    "## Store to DB\n",
    "Question.to_sql(\"Question_trimmed\", \"sqlite:///data/QAT_trimmed.db\", if_exists = \"replace\")\n",
    "Answer.to_sql(\"Answer_trimmed\", \"sqlite:///data/QAT_trimmed.db\", if_exists = \"replace\")\n",
    "# ---------------------------------------------"
   ]
  },
  {
   "cell_type": "code",
   "execution_count": null,
   "metadata": {},
   "outputs": [],
   "source": []
  }
 ],
 "metadata": {
  "kernelspec": {
   "name": "python3",
   "display_name": "Python 3.8.2 64-bit",
   "metadata": {
    "interpreter": {
     "hash": "95e24f6d028694f957b1106e412d23c4f9ba09e8613c65a2aeaf0c0e73a5daa1"
    }
   }
  },
  "language_info": {
   "codemirror_mode": {
    "name": "ipython",
    "version": 3
   },
   "file_extension": ".py",
   "mimetype": "text/x-python",
   "name": "python",
   "nbconvert_exporter": "python",
   "pygments_lexer": "ipython3",
   "version": "3.8.2-final"
  }
 },
 "nbformat": 4,
 "nbformat_minor": 2
}