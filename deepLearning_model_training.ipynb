{
 "metadata": {
  "language_info": {
   "codemirror_mode": {
    "name": "ipython",
    "version": 3
   },
   "file_extension": ".py",
   "mimetype": "text/x-python",
   "name": "python",
   "nbconvert_exporter": "python",
   "pygments_lexer": "ipython3",
   "version": "3.6.9-final"
  },
  "orig_nbformat": 2,
  "kernelspec": {
   "name": "python3",
   "display_name": "Python 3",
   "language": "python"
  }
 },
 "nbformat": 4,
 "nbformat_minor": 2,
 "cells": [
  {
   "cell_type": "code",
   "execution_count": 57,
   "metadata": {},
   "outputs": [
    {
     "output_type": "execute_result",
     "data": {
      "text/plain": [
       "         Unnamed: 0  Score  Title  Body  BestAns_RespTime_timestamp  \\\n",
       "0                 0     26      7   293                           2   \n",
       "1                 1    144      7    24                           9   \n",
       "2                 2     21      3    54                           7   \n",
       "3                 3     53      5    41                           5   \n",
       "4                 4     49      6   169                           2   \n",
       "...             ...    ...    ...   ...                         ...   \n",
       "1102523     1102523      0      5    63                           0   \n",
       "1102524     1102524      0     13    51                           0   \n",
       "1102525     1102525      0     11   586                           1   \n",
       "1102526     1102526     -1      8    74                           0   \n",
       "1102527     1102527      1     10    74                           0   \n",
       "\n",
       "         FirstAns_RespTime_timestamp  Tag  \n",
       "0                                  2  3.0  \n",
       "1                                  0  4.0  \n",
       "2                                  7  3.0  \n",
       "3                                  1  4.0  \n",
       "4                                  0  4.0  \n",
       "...                              ...  ...  \n",
       "1102523                            0  2.0  \n",
       "1102524                            0  3.0  \n",
       "1102525                            1  3.0  \n",
       "1102526                            0  1.0  \n",
       "1102527                            0  3.0  \n",
       "\n",
       "[1102528 rows x 7 columns]"
      ],
      "text/html": "<div>\n<style scoped>\n    .dataframe tbody tr th:only-of-type {\n        vertical-align: middle;\n    }\n\n    .dataframe tbody tr th {\n        vertical-align: top;\n    }\n\n    .dataframe thead th {\n        text-align: right;\n    }\n</style>\n<table border=\"1\" class=\"dataframe\">\n  <thead>\n    <tr style=\"text-align: right;\">\n      <th></th>\n      <th>Unnamed: 0</th>\n      <th>Score</th>\n      <th>Title</th>\n      <th>Body</th>\n      <th>BestAns_RespTime_timestamp</th>\n      <th>FirstAns_RespTime_timestamp</th>\n      <th>Tag</th>\n    </tr>\n  </thead>\n  <tbody>\n    <tr>\n      <th>0</th>\n      <td>0</td>\n      <td>26</td>\n      <td>7</td>\n      <td>293</td>\n      <td>2</td>\n      <td>2</td>\n      <td>3.0</td>\n    </tr>\n    <tr>\n      <th>1</th>\n      <td>1</td>\n      <td>144</td>\n      <td>7</td>\n      <td>24</td>\n      <td>9</td>\n      <td>0</td>\n      <td>4.0</td>\n    </tr>\n    <tr>\n      <th>2</th>\n      <td>2</td>\n      <td>21</td>\n      <td>3</td>\n      <td>54</td>\n      <td>7</td>\n      <td>7</td>\n      <td>3.0</td>\n    </tr>\n    <tr>\n      <th>3</th>\n      <td>3</td>\n      <td>53</td>\n      <td>5</td>\n      <td>41</td>\n      <td>5</td>\n      <td>1</td>\n      <td>4.0</td>\n    </tr>\n    <tr>\n      <th>4</th>\n      <td>4</td>\n      <td>49</td>\n      <td>6</td>\n      <td>169</td>\n      <td>2</td>\n      <td>0</td>\n      <td>4.0</td>\n    </tr>\n    <tr>\n      <th>...</th>\n      <td>...</td>\n      <td>...</td>\n      <td>...</td>\n      <td>...</td>\n      <td>...</td>\n      <td>...</td>\n      <td>...</td>\n    </tr>\n    <tr>\n      <th>1102523</th>\n      <td>1102523</td>\n      <td>0</td>\n      <td>5</td>\n      <td>63</td>\n      <td>0</td>\n      <td>0</td>\n      <td>2.0</td>\n    </tr>\n    <tr>\n      <th>1102524</th>\n      <td>1102524</td>\n      <td>0</td>\n      <td>13</td>\n      <td>51</td>\n      <td>0</td>\n      <td>0</td>\n      <td>3.0</td>\n    </tr>\n    <tr>\n      <th>1102525</th>\n      <td>1102525</td>\n      <td>0</td>\n      <td>11</td>\n      <td>586</td>\n      <td>1</td>\n      <td>1</td>\n      <td>3.0</td>\n    </tr>\n    <tr>\n      <th>1102526</th>\n      <td>1102526</td>\n      <td>-1</td>\n      <td>8</td>\n      <td>74</td>\n      <td>0</td>\n      <td>0</td>\n      <td>1.0</td>\n    </tr>\n    <tr>\n      <th>1102527</th>\n      <td>1102527</td>\n      <td>1</td>\n      <td>10</td>\n      <td>74</td>\n      <td>0</td>\n      <td>0</td>\n      <td>3.0</td>\n    </tr>\n  </tbody>\n</table>\n<p>1102528 rows × 7 columns</p>\n</div>"
     },
     "metadata": {},
     "execution_count": 57
    }
   ],
   "source": [
    "import pandas\n",
    "question = pandas.read_csv('./DeepLearningData.csv')\n",
    "question = question.drop(columns=['index'])\n",
    "question"
   ]
  },
  {
   "cell_type": "code",
   "execution_count": 2,
   "metadata": {},
   "outputs": [],
   "source": [
    "def to_binary(x):\n",
    "    if x['FirstAns_RespTime_timestamp'] == 0:\n",
    "        return 1\n",
    "    else:\n",
    "        return 0\n",
    "\n",
    "question['FirstAns_RespTime_timestamp'] = question.apply(to_binary,axis=1)\n",
    "\n"
   ]
  },
  {
   "cell_type": "code",
   "execution_count": 58,
   "metadata": {},
   "outputs": [
    {
     "output_type": "execute_result",
     "data": {
      "text/plain": [
       "590675"
      ]
     },
     "metadata": {},
     "execution_count": 58
    }
   ],
   "source": [
    "question[question['FirstAns_RespTime_timestamp'] == 0]['Score'].count()"
   ]
  },
  {
   "cell_type": "code",
   "execution_count": 59,
   "metadata": {},
   "outputs": [
    {
     "output_type": "execute_result",
     "data": {
      "text/plain": [
       "107078"
      ]
     },
     "metadata": {},
     "execution_count": 59
    }
   ],
   "source": [
    "question[question['BestAns_RespTime_timestamp'] == 1]['Score'].count()"
   ]
  },
  {
   "cell_type": "code",
   "execution_count": 61,
   "metadata": {},
   "outputs": [],
   "source": [
    "from sklearn.utils import shuffle\n",
    "question_y_train = []\n",
    "question_x_train = []\n",
    "\n",
    "question_y_test = []\n",
    "question_x_test = []\n",
    "for i in range(10):\n",
    "    cut = question[question['BestAns_RespTime_timestamp'] == i].sample(8471)\n",
    "    question_y_train.append(cut[['BestAns_RespTime_timestamp']][847:])\n",
    "    question_x_train.append(cut[['Tag','Score','Title','Body']][847:])\n",
    "    question_y_test.append(cut[['BestAns_RespTime_timestamp']][:847])  \n",
    "    question_x_test.append(cut[['Tag','Score','Title','Body']][:847])\n",
    "\n",
    "question_x_train = pandas.concat(question_x_train)\n",
    "question_y_train = pandas.concat(question_y_train)\n",
    "question_x_test = pandas.concat(question_x_test)\n",
    "question_y_test = pandas.concat(question_y_test)\n",
    "\n",
    "question_x_train = shuffle(question_x_train)\n",
    "question_y_train = shuffle(question_y_train)\n",
    "question_x_test = shuffle(question_x_test)\n",
    "question_y_test = shuffle(question_y_test)\n",
    "\n",
    "def to_class(x):\n",
    "    classes = []\n",
    "    for i in range(10):\n",
    "        classes.append(0)\n",
    "    classes[x['BestAns_RespTime_timestamp']] = 1\n",
    "    return classes\n",
    "\n",
    "question_y_train = question_y_train.apply(to_class,axis=1)\n",
    "question_y_test = question_y_test.apply(to_class,axis=1)\n",
    "\n",
    "question_y_train = pandas.DataFrame(list(question_y_train),columns=list(range(0,10)))\n",
    "question_y_test = pandas.DataFrame(list(question_y_test),columns=list(range(0,10)))"
   ]
  },
  {
   "cell_type": "code",
   "execution_count": 62,
   "metadata": {},
   "outputs": [],
   "source": [
    "question_x_train = (question_x_train-question_x_train.mean())/question_x_train.std()\n",
    "question_x_test = (question_x_train-question_x_train.mean())/question_x_train.std()"
   ]
  },
  {
   "cell_type": "code",
   "execution_count": 63,
   "metadata": {},
   "outputs": [
    {
     "output_type": "execute_result",
     "data": {
      "text/plain": [
       "             Tag     Score     Title      Body\n",
       "492607  1.605550 -0.152776 -0.125030  1.111910\n",
       "247600 -1.703735 -0.152776  1.295157 -0.084133\n",
       "9443    1.605550 -0.099339 -0.125030 -0.295884\n",
       "283904 -1.703735  0.221282 -0.125030  1.177064\n",
       "594045 -1.703735 -0.259649  1.011120  0.776832\n",
       "...          ...       ...       ...       ...\n",
       "153410 -0.876414 -0.152776  1.011120 -0.430846\n",
       "959337 -1.703735 -0.045902 -0.125030  0.814063\n",
       "7161    1.605550  0.114408 -0.977143 -0.307519\n",
       "548899 -1.703735 -0.099339 -1.261180 -0.321480\n",
       "58857   1.605550 -0.045902 -1.261180 -0.056210\n",
       "\n",
       "[76240 rows x 4 columns]"
      ],
      "text/html": "<div>\n<style scoped>\n    .dataframe tbody tr th:only-of-type {\n        vertical-align: middle;\n    }\n\n    .dataframe tbody tr th {\n        vertical-align: top;\n    }\n\n    .dataframe thead th {\n        text-align: right;\n    }\n</style>\n<table border=\"1\" class=\"dataframe\">\n  <thead>\n    <tr style=\"text-align: right;\">\n      <th></th>\n      <th>Tag</th>\n      <th>Score</th>\n      <th>Title</th>\n      <th>Body</th>\n    </tr>\n  </thead>\n  <tbody>\n    <tr>\n      <th>492607</th>\n      <td>1.605550</td>\n      <td>-0.152776</td>\n      <td>-0.125030</td>\n      <td>1.111910</td>\n    </tr>\n    <tr>\n      <th>247600</th>\n      <td>-1.703735</td>\n      <td>-0.152776</td>\n      <td>1.295157</td>\n      <td>-0.084133</td>\n    </tr>\n    <tr>\n      <th>9443</th>\n      <td>1.605550</td>\n      <td>-0.099339</td>\n      <td>-0.125030</td>\n      <td>-0.295884</td>\n    </tr>\n    <tr>\n      <th>283904</th>\n      <td>-1.703735</td>\n      <td>0.221282</td>\n      <td>-0.125030</td>\n      <td>1.177064</td>\n    </tr>\n    <tr>\n      <th>594045</th>\n      <td>-1.703735</td>\n      <td>-0.259649</td>\n      <td>1.011120</td>\n      <td>0.776832</td>\n    </tr>\n    <tr>\n      <th>...</th>\n      <td>...</td>\n      <td>...</td>\n      <td>...</td>\n      <td>...</td>\n    </tr>\n    <tr>\n      <th>153410</th>\n      <td>-0.876414</td>\n      <td>-0.152776</td>\n      <td>1.011120</td>\n      <td>-0.430846</td>\n    </tr>\n    <tr>\n      <th>959337</th>\n      <td>-1.703735</td>\n      <td>-0.045902</td>\n      <td>-0.125030</td>\n      <td>0.814063</td>\n    </tr>\n    <tr>\n      <th>7161</th>\n      <td>1.605550</td>\n      <td>0.114408</td>\n      <td>-0.977143</td>\n      <td>-0.307519</td>\n    </tr>\n    <tr>\n      <th>548899</th>\n      <td>-1.703735</td>\n      <td>-0.099339</td>\n      <td>-1.261180</td>\n      <td>-0.321480</td>\n    </tr>\n    <tr>\n      <th>58857</th>\n      <td>1.605550</td>\n      <td>-0.045902</td>\n      <td>-1.261180</td>\n      <td>-0.056210</td>\n    </tr>\n  </tbody>\n</table>\n<p>76240 rows × 4 columns</p>\n</div>"
     },
     "metadata": {},
     "execution_count": 63
    }
   ],
   "source": [
    "question_x_train"
   ]
  },
  {
   "cell_type": "code",
   "execution_count": 86,
   "metadata": {
    "tags": []
   },
   "outputs": [
    {
     "output_type": "stream",
     "name": "stdout",
     "text": [
      "Epoch 1/30\n",
      "60/60 [==============================] - 0s 6ms/step - loss: 0.0901 - accuracy: 0.1006 - val_loss: 0.0901 - val_accuracy: 0.1012\n",
      "Epoch 2/30\n",
      "60/60 [==============================] - 0s 5ms/step - loss: 0.0900 - accuracy: 0.1010 - val_loss: 0.0900 - val_accuracy: 0.1030\n",
      "Epoch 3/30\n",
      "60/60 [==============================] - 0s 5ms/step - loss: 0.0900 - accuracy: 0.1009 - val_loss: 0.0900 - val_accuracy: 0.1020\n",
      "Epoch 4/30\n",
      "60/60 [==============================] - 0s 5ms/step - loss: 0.0900 - accuracy: 0.1009 - val_loss: 0.0900 - val_accuracy: 0.1036\n",
      "Epoch 5/30\n",
      "60/60 [==============================] - 0s 5ms/step - loss: 0.0900 - accuracy: 0.1018 - val_loss: 0.0900 - val_accuracy: 0.1029\n",
      "Epoch 6/30\n",
      "60/60 [==============================] - 0s 5ms/step - loss: 0.0900 - accuracy: 0.1031 - val_loss: 0.0900 - val_accuracy: 0.1020\n",
      "Epoch 7/30\n",
      "60/60 [==============================] - 0s 5ms/step - loss: 0.0900 - accuracy: 0.1042 - val_loss: 0.0900 - val_accuracy: 0.1028\n",
      "Epoch 8/30\n",
      "60/60 [==============================] - 0s 5ms/step - loss: 0.0900 - accuracy: 0.1045 - val_loss: 0.0900 - val_accuracy: 0.1018\n",
      "Epoch 9/30\n",
      "60/60 [==============================] - 0s 5ms/step - loss: 0.0900 - accuracy: 0.1047 - val_loss: 0.0900 - val_accuracy: 0.1039\n",
      "Epoch 10/30\n",
      "60/60 [==============================] - 0s 5ms/step - loss: 0.0900 - accuracy: 0.1046 - val_loss: 0.0900 - val_accuracy: 0.1039\n",
      "Epoch 11/30\n",
      "60/60 [==============================] - 0s 5ms/step - loss: 0.0900 - accuracy: 0.1053 - val_loss: 0.0900 - val_accuracy: 0.1039\n",
      "Epoch 12/30\n",
      "60/60 [==============================] - 0s 5ms/step - loss: 0.0900 - accuracy: 0.1058 - val_loss: 0.0900 - val_accuracy: 0.1022\n",
      "Epoch 13/30\n",
      "60/60 [==============================] - 0s 5ms/step - loss: 0.0900 - accuracy: 0.1047 - val_loss: 0.0900 - val_accuracy: 0.1022\n",
      "Epoch 14/30\n",
      "60/60 [==============================] - 0s 5ms/step - loss: 0.0900 - accuracy: 0.1062 - val_loss: 0.0900 - val_accuracy: 0.1026\n",
      "Epoch 15/30\n",
      "60/60 [==============================] - 0s 5ms/step - loss: 0.0900 - accuracy: 0.1049 - val_loss: 0.0900 - val_accuracy: 0.1032\n",
      "Epoch 16/30\n",
      "60/60 [==============================] - 0s 5ms/step - loss: 0.0900 - accuracy: 0.1050 - val_loss: 0.0900 - val_accuracy: 0.1021\n",
      "Epoch 17/30\n",
      "60/60 [==============================] - 0s 5ms/step - loss: 0.0900 - accuracy: 0.1049 - val_loss: 0.0900 - val_accuracy: 0.1028\n",
      "Epoch 18/30\n",
      "60/60 [==============================] - 0s 5ms/step - loss: 0.0900 - accuracy: 0.1053 - val_loss: 0.0900 - val_accuracy: 0.1037\n",
      "Epoch 19/30\n",
      "60/60 [==============================] - 0s 5ms/step - loss: 0.0900 - accuracy: 0.1057 - val_loss: 0.0900 - val_accuracy: 0.1028\n",
      "Epoch 20/30\n",
      "60/60 [==============================] - 0s 5ms/step - loss: 0.0900 - accuracy: 0.1056 - val_loss: 0.0900 - val_accuracy: 0.1018\n",
      "Epoch 21/30\n",
      "60/60 [==============================] - 0s 5ms/step - loss: 0.0900 - accuracy: 0.1051 - val_loss: 0.0900 - val_accuracy: 0.1031\n",
      "Epoch 22/30\n",
      "60/60 [==============================] - 0s 5ms/step - loss: 0.0900 - accuracy: 0.1063 - val_loss: 0.0900 - val_accuracy: 0.1033\n",
      "Epoch 23/30\n",
      "60/60 [==============================] - 0s 5ms/step - loss: 0.0900 - accuracy: 0.1060 - val_loss: 0.0900 - val_accuracy: 0.1034\n",
      "Epoch 24/30\n",
      "60/60 [==============================] - 0s 5ms/step - loss: 0.0900 - accuracy: 0.1057 - val_loss: 0.0900 - val_accuracy: 0.1018\n",
      "Epoch 25/30\n",
      "60/60 [==============================] - 0s 5ms/step - loss: 0.0900 - accuracy: 0.1064 - val_loss: 0.0900 - val_accuracy: 0.1017\n",
      "Epoch 26/30\n",
      "60/60 [==============================] - 0s 5ms/step - loss: 0.0900 - accuracy: 0.1069 - val_loss: 0.0900 - val_accuracy: 0.1013\n",
      "Epoch 27/30\n",
      "60/60 [==============================] - 0s 5ms/step - loss: 0.0900 - accuracy: 0.1059 - val_loss: 0.0900 - val_accuracy: 0.1004\n",
      "Epoch 28/30\n",
      "60/60 [==============================] - 0s 4ms/step - loss: 0.0900 - accuracy: 0.1064 - val_loss: 0.0900 - val_accuracy: 0.0999\n",
      "Epoch 29/30\n",
      "60/60 [==============================] - 0s 5ms/step - loss: 0.0900 - accuracy: 0.1053 - val_loss: 0.0900 - val_accuracy: 0.1010\n",
      "Epoch 30/30\n",
      "60/60 [==============================] - 0s 5ms/step - loss: 0.0900 - accuracy: 0.1063 - val_loss: 0.0900 - val_accuracy: 0.1007\n"
     ]
    },
    {
     "output_type": "execute_result",
     "data": {
      "text/plain": [
       "<tensorflow.python.keras.callbacks.History at 0x7fe6f8099be0>"
      ]
     },
     "metadata": {},
     "execution_count": 86
    }
   ],
   "source": [
    "import tensorflow.keras as keras\n",
    "import tensorflow as tf\n",
    "\n",
    "input_size = 4\n",
    "\n",
    "model = keras.models.Sequential()\n",
    "model.add(keras.layers.Input(shape = (input_size,)))\n",
    "model.add(keras.layers.Dense(16, activation=tf.nn.relu))\n",
    "model.add(keras.layers.Dense(32, activation=tf.nn.relu))\n",
    "model.add(keras.layers.Dense(64, activation=tf.nn.relu))\n",
    "model.add(keras.layers.Dense(32, activation=tf.nn.relu))\n",
    "model.add(keras.layers.Dense(10,activation=tf.nn.softmax))\n",
    "\n",
    "model.compile(optimizer=tf.optimizers.Adam(learning_rate=1e-4), loss='mse',metrics=['accuracy'])\n",
    "model.fit(question_x_train, question_y_train, epochs=30, validation_split=0.2, batch_size=1024)"
   ]
  },
  {
   "cell_type": "code",
   "execution_count": 47,
   "metadata": {},
   "outputs": [
    {
     "output_type": "stream",
     "name": "stdout",
     "text": [
      "tf.Tensor(-0.33333334, shape=(), dtype=float32)\ntf.Tensor(1, shape=(), dtype=int64)\ntf.Tensor(1, shape=(), dtype=int64)\ntf.Tensor(0, shape=(), dtype=int64)\n"
     ]
    }
   ],
   "source": [
    "def myloss(y_true, y_pred):\n",
    "    truelabel = tf.argmax(y_true,axis=0)\n",
    "    predlabel = tf.argmax(y_pred,axis=0)\n",
    "    return predlabel-truelabel\n",
    "\n",
    "print(customMetric1([0,0,0],[1,0,0]))\n",
    "print(myloss([0,1,0],[0,0,1]))"
   ]
  },
  {
   "cell_type": "code",
   "execution_count": 84,
   "metadata": {},
   "outputs": [
    {
     "output_type": "stream",
     "name": "stdout",
     "text": [
      "WARNING:tensorflow:6 out of the last 2390 calls to <function Model.make_predict_function.<locals>.predict_function at 0x7fe6f811e840> triggered tf.function retracing. Tracing is expensive and the excessive number of tracings could be due to (1) creating @tf.function repeatedly in a loop, (2) passing tensors with different shapes, (3) passing Python objects instead of tensors. For (1), please define your @tf.function outside of the loop. For (2), @tf.function has experimental_relax_shapes=True option that relaxes argument shapes that can avoid unnecessary retracing. For (3), please refer to https://www.tensorflow.org/tutorials/customization/performance#python_or_tensor_args and https://www.tensorflow.org/api_docs/python/tf/function for  more details.\n"
     ]
    },
    {
     "output_type": "execute_result",
     "data": {
      "text/plain": [
       "array([6, 6, 7, 4, 5])"
      ]
     },
     "metadata": {},
     "execution_count": 84
    }
   ],
   "source": [
    "out = model.predict_classes(question_x_test[-5:])\n",
    "out"
   ]
  },
  {
   "cell_type": "code",
   "execution_count": 85,
   "metadata": {},
   "outputs": [
    {
     "output_type": "execute_result",
     "data": {
      "text/plain": [
       "      0  1  2  3  4  5  6  7  8  9\n",
       "8465  0  0  0  1  0  0  0  0  0  0\n",
       "8466  0  0  1  0  0  0  0  0  0  0\n",
       "8467  0  1  0  0  0  0  0  0  0  0\n",
       "8468  0  0  0  0  0  0  0  0  1  0\n",
       "8469  0  0  0  0  0  0  0  0  1  0"
      ],
      "text/html": "<div>\n<style scoped>\n    .dataframe tbody tr th:only-of-type {\n        vertical-align: middle;\n    }\n\n    .dataframe tbody tr th {\n        vertical-align: top;\n    }\n\n    .dataframe thead th {\n        text-align: right;\n    }\n</style>\n<table border=\"1\" class=\"dataframe\">\n  <thead>\n    <tr style=\"text-align: right;\">\n      <th></th>\n      <th>0</th>\n      <th>1</th>\n      <th>2</th>\n      <th>3</th>\n      <th>4</th>\n      <th>5</th>\n      <th>6</th>\n      <th>7</th>\n      <th>8</th>\n      <th>9</th>\n    </tr>\n  </thead>\n  <tbody>\n    <tr>\n      <th>8465</th>\n      <td>0</td>\n      <td>0</td>\n      <td>0</td>\n      <td>1</td>\n      <td>0</td>\n      <td>0</td>\n      <td>0</td>\n      <td>0</td>\n      <td>0</td>\n      <td>0</td>\n    </tr>\n    <tr>\n      <th>8466</th>\n      <td>0</td>\n      <td>0</td>\n      <td>1</td>\n      <td>0</td>\n      <td>0</td>\n      <td>0</td>\n      <td>0</td>\n      <td>0</td>\n      <td>0</td>\n      <td>0</td>\n    </tr>\n    <tr>\n      <th>8467</th>\n      <td>0</td>\n      <td>1</td>\n      <td>0</td>\n      <td>0</td>\n      <td>0</td>\n      <td>0</td>\n      <td>0</td>\n      <td>0</td>\n      <td>0</td>\n      <td>0</td>\n    </tr>\n    <tr>\n      <th>8468</th>\n      <td>0</td>\n      <td>0</td>\n      <td>0</td>\n      <td>0</td>\n      <td>0</td>\n      <td>0</td>\n      <td>0</td>\n      <td>0</td>\n      <td>1</td>\n      <td>0</td>\n    </tr>\n    <tr>\n      <th>8469</th>\n      <td>0</td>\n      <td>0</td>\n      <td>0</td>\n      <td>0</td>\n      <td>0</td>\n      <td>0</td>\n      <td>0</td>\n      <td>0</td>\n      <td>1</td>\n      <td>0</td>\n    </tr>\n  </tbody>\n</table>\n</div>"
     },
     "metadata": {},
     "execution_count": 85
    }
   ],
   "source": [
    "question_y_test[-5:]"
   ]
  },
  {
   "cell_type": "code",
   "execution_count": 54,
   "metadata": {},
   "outputs": [
    {
     "output_type": "stream",
     "name": "stdout",
     "text": [
      "Model: \"sequential_22\"\n_________________________________________________________________\nLayer (type)                 Output Shape              Param #   \n=================================================================\ndense_101 (Dense)            (None, 16)                80        \n_________________________________________________________________\ndense_102 (Dense)            (None, 32)                544       \n_________________________________________________________________\ndense_103 (Dense)            (None, 64)                2112      \n_________________________________________________________________\ndense_104 (Dense)            (None, 32)                2080      \n_________________________________________________________________\ndense_105 (Dense)            (None, 10)                330       \n=================================================================\nTotal params: 5,146\nTrainable params: 5,146\nNon-trainable params: 0\n_________________________________________________________________\n"
     ]
    }
   ],
   "source": [
    "model.summary()"
   ]
  },
  {
   "cell_type": "code",
   "execution_count": null,
   "metadata": {},
   "outputs": [],
   "source": []
  }
 ]
}