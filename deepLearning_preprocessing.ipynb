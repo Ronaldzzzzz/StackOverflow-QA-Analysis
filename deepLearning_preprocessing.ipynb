{
 "metadata": {
  "language_info": {
   "codemirror_mode": {
    "name": "ipython",
    "version": 3
   },
   "file_extension": ".py",
   "mimetype": "text/x-python",
   "name": "python",
   "nbconvert_exporter": "python",
   "pygments_lexer": "ipython3",
   "version": "3.6.9-final"
  },
  "orig_nbformat": 2,
  "kernelspec": {
   "name": "python36864bitc9f813a56981486d89d460fa6421c0c5",
   "display_name": "Python 3.6.8 64-bit"
  }
 },
 "nbformat": 4,
 "nbformat_minor": 2,
 "cells": [
  {
   "cell_type": "code",
   "execution_count": 1,
   "metadata": {},
   "outputs": [
    {
     "output_type": "stream",
     "name": "stdout",
     "text": [
      "               Id  Score  Title  Body  CreationDate_to_datetime  FirstAnsTime  \\\nindex                                                                           \n0              80     26      7   293              1.217613e+09  1.217621e+09   \n1              90    144      7    24              1.217616e+09  1.217616e+09   \n2             120     21      3    54              1.217620e+09  1.222224e+09   \n3             180     53      5    41              1.217631e+09  1.217634e+09   \n4             260     49      6   169              1.217647e+09  1.217649e+09   \n...           ...    ...    ...   ...                       ...           ...   \n1264197  40142860      0      5    63              1.476932e+09  1.476933e+09   \n1264200  40142900      0     13    51              1.476933e+09  1.476933e+09   \n1264201  40142910      0     11   586              1.476933e+09  1.476936e+09   \n1264203  40142940     -1      8    74              1.476933e+09  1.476933e+09   \n1264210  40143190      1     10    74              1.476935e+09  1.476935e+09   \n\n        CreationDate_to_daytime  CreationDate_to_daytime_timestamp  \\\nindex                                                                \n0           2011-01-01 13:57:07                              50227   \n1           2011-01-01 14:41:24                              52884   \n2           2011-01-01 15:50:08                              57008   \n3           2011-01-01 18:42:19                              67339   \n4           2011-01-01 23:22:08                              84128   \n...                         ...                                ...   \n1264197     2011-01-01 23:01:07                              82867   \n1264200     2011-01-01 23:05:07                              83107   \n1264201     2011-01-01 23:05:49                              83149   \n1264203     2011-01-01 23:08:42                              83322   \n1264210     2011-01-01 23:36:01                              84961   \n\n         BestAns_RespTime_timestamp  \nindex                                \n0                            7960.0  \n1                        36118762.0  \n2                         4603863.0  \n3                           87693.0  \n4                            8858.0  \n...                             ...  \n1264197                       823.0  \n1264200                       663.0  \n1264201                      3189.0  \n1264203                      1290.0  \n1264210                       136.0  \n\n[1102528 rows x 9 columns]\n"
     ]
    }
   ],
   "source": [
    "import pandas, datetime \n",
    "import matplotlib.pyplot as plt\n",
    "import matplotlib.dates as mdates\n",
    "import tensorflow\n",
    "\n",
    "Question = pandas.read_sql('Question_no_outlier', \"sqlite:///QAT_final.db\", index_col='index')\n",
    "Question = Question.drop(columns=['BestAnsTime','BestAns_RespTime'])\n",
    "print(Question)"
   ]
  },
  {
   "cell_type": "code",
   "execution_count": 2,
   "metadata": {},
   "outputs": [
    {
     "output_type": "stream",
     "name": "stdout",
     "text": [
      "               Id  Score  Title  Body CreationDate_to_daytime  \\\nindex                                                           \n0              80     26      7   293     2011-01-01 13:57:07   \n1              90    144      7    24     2011-01-01 14:41:24   \n2             120     21      3    54     2011-01-01 15:50:08   \n3             180     53      5    41     2011-01-01 18:42:19   \n4             260     49      6   169     2011-01-01 23:22:08   \n...           ...    ...    ...   ...                     ...   \n1264197  40142860      0      5    63     2011-01-01 23:01:07   \n1264200  40142900      0     13    51     2011-01-01 23:05:07   \n1264201  40142910      0     11   586     2011-01-01 23:05:49   \n1264203  40142940     -1      8    74     2011-01-01 23:08:42   \n1264210  40143190      1     10    74     2011-01-01 23:36:01   \n\n         BestAns_RespTime_timestamp  FirstAns_RespTime_timestamp  \nindex                                                             \n0                            7960.0                       7960.0  \n1                        36118762.0                        253.0  \n2                         4603863.0                    4603863.0  \n3                           87693.0                       3267.0  \n4                            8858.0                       1669.0  \n...                             ...                          ...  \n1264197                       823.0                        823.0  \n1264200                       663.0                        663.0  \n1264201                      3189.0                       3189.0  \n1264203                      1290.0                        380.0  \n1264210                       136.0                        136.0  \n\n[1102528 rows x 7 columns]\n"
     ]
    }
   ],
   "source": [
    "def creatFirstAns_RespTime_timestamp(x):\n",
    "    return x['FirstAnsTime']-x['CreationDate_to_datetime']\n",
    "Question['FirstAns_RespTime_timestamp'] = Question.apply(creatFirstAns_RespTime_timestamp, axis=1)\n",
    "Question = Question.drop(columns=['FirstAnsTime','CreationDate_to_datetime','CreationDate_to_daytime_timestamp'])\n",
    "print(Question)"
   ]
  },
  {
   "cell_type": "code",
   "execution_count": 5,
   "metadata": {},
   "outputs": [
    {
     "output_type": "error",
     "ename": "KeyError",
     "evalue": "'Id'",
     "traceback": [
      "\u001b[0;31m---------------------------------------------------------------------------\u001b[0m",
      "\u001b[0;31mKeyError\u001b[0m                                  Traceback (most recent call last)",
      "\u001b[0;32m/home/chen/.local/lib/python3.6/site-packages/pandas/core/indexes/base.py\u001b[0m in \u001b[0;36mget_loc\u001b[0;34m(self, key, method, tolerance)\u001b[0m\n\u001b[1;32m   2894\u001b[0m             \u001b[0;32mtry\u001b[0m\u001b[0;34m:\u001b[0m\u001b[0;34m\u001b[0m\u001b[0;34m\u001b[0m\u001b[0m\n\u001b[0;32m-> 2895\u001b[0;31m                 \u001b[0;32mreturn\u001b[0m \u001b[0mself\u001b[0m\u001b[0;34m.\u001b[0m\u001b[0m_engine\u001b[0m\u001b[0;34m.\u001b[0m\u001b[0mget_loc\u001b[0m\u001b[0;34m(\u001b[0m\u001b[0mcasted_key\u001b[0m\u001b[0;34m)\u001b[0m\u001b[0;34m\u001b[0m\u001b[0;34m\u001b[0m\u001b[0m\n\u001b[0m\u001b[1;32m   2896\u001b[0m             \u001b[0;32mexcept\u001b[0m \u001b[0mKeyError\u001b[0m \u001b[0;32mas\u001b[0m \u001b[0merr\u001b[0m\u001b[0;34m:\u001b[0m\u001b[0;34m\u001b[0m\u001b[0;34m\u001b[0m\u001b[0m\n",
      "\u001b[0;32mpandas/_libs/index.pyx\u001b[0m in \u001b[0;36mpandas._libs.index.IndexEngine.get_loc\u001b[0;34m()\u001b[0m\n",
      "\u001b[0;32mpandas/_libs/index.pyx\u001b[0m in \u001b[0;36mpandas._libs.index.IndexEngine.get_loc\u001b[0;34m()\u001b[0m\n",
      "\u001b[0;32mpandas/_libs/hashtable_class_helper.pxi\u001b[0m in \u001b[0;36mpandas._libs.hashtable.PyObjectHashTable.get_item\u001b[0;34m()\u001b[0m\n",
      "\u001b[0;32mpandas/_libs/hashtable_class_helper.pxi\u001b[0m in \u001b[0;36mpandas._libs.hashtable.PyObjectHashTable.get_item\u001b[0;34m()\u001b[0m\n",
      "\u001b[0;31mKeyError\u001b[0m: 'Id'",
      "\nThe above exception was the direct cause of the following exception:\n",
      "\u001b[0;31mKeyError\u001b[0m                                  Traceback (most recent call last)",
      "\u001b[0;32m<ipython-input-5-1e3a91afbc70>\u001b[0m in \u001b[0;36m<module>\u001b[0;34m()\u001b[0m\n\u001b[1;32m      7\u001b[0m \u001b[0mdata_loop\u001b[0m \u001b[0;34m=\u001b[0m \u001b[0;36m0\u001b[0m\u001b[0;34m\u001b[0m\u001b[0;34m\u001b[0m\u001b[0m\n\u001b[1;32m      8\u001b[0m \u001b[0;32mfor\u001b[0m \u001b[0midx\u001b[0m\u001b[0;34m,\u001b[0m \u001b[0mrow\u001b[0m \u001b[0;32min\u001b[0m \u001b[0mQuestion\u001b[0m\u001b[0;34m.\u001b[0m\u001b[0miterrows\u001b[0m\u001b[0;34m(\u001b[0m\u001b[0;34m)\u001b[0m\u001b[0;34m:\u001b[0m\u001b[0;34m\u001b[0m\u001b[0;34m\u001b[0m\u001b[0m\n\u001b[0;32m----> 9\u001b[0;31m     \u001b[0;32mwhile\u001b[0m \u001b[0mnext_tag_data\u001b[0m\u001b[0;34m[\u001b[0m\u001b[0;36m1\u001b[0m\u001b[0;34m]\u001b[0m\u001b[0;34m[\u001b[0m\u001b[0;34m'Id'\u001b[0m\u001b[0;34m]\u001b[0m\u001b[0;34m<\u001b[0m\u001b[0mrow\u001b[0m\u001b[0;34m[\u001b[0m\u001b[0;34m'Id'\u001b[0m\u001b[0;34m]\u001b[0m\u001b[0;34m:\u001b[0m\u001b[0;34m\u001b[0m\u001b[0;34m\u001b[0m\u001b[0m\n\u001b[0m\u001b[1;32m     10\u001b[0m         \u001b[0mnext_tag_data\u001b[0m \u001b[0;34m=\u001b[0m \u001b[0mnext\u001b[0m\u001b[0;34m(\u001b[0m\u001b[0mtag_gen\u001b[0m\u001b[0;34m)\u001b[0m\u001b[0;34m\u001b[0m\u001b[0;34m\u001b[0m\u001b[0m\n\u001b[1;32m     11\u001b[0m     \u001b[0mcount\u001b[0m \u001b[0;34m=\u001b[0m \u001b[0;36m0\u001b[0m\u001b[0;34m\u001b[0m\u001b[0;34m\u001b[0m\u001b[0m\n",
      "\u001b[0;32m/home/chen/.local/lib/python3.6/site-packages/pandas/core/series.py\u001b[0m in \u001b[0;36m__getitem__\u001b[0;34m(self, key)\u001b[0m\n\u001b[1;32m    880\u001b[0m \u001b[0;34m\u001b[0m\u001b[0m\n\u001b[1;32m    881\u001b[0m         \u001b[0;32melif\u001b[0m \u001b[0mkey_is_scalar\u001b[0m\u001b[0;34m:\u001b[0m\u001b[0;34m\u001b[0m\u001b[0;34m\u001b[0m\u001b[0m\n\u001b[0;32m--> 882\u001b[0;31m             \u001b[0;32mreturn\u001b[0m \u001b[0mself\u001b[0m\u001b[0;34m.\u001b[0m\u001b[0m_get_value\u001b[0m\u001b[0;34m(\u001b[0m\u001b[0mkey\u001b[0m\u001b[0;34m)\u001b[0m\u001b[0;34m\u001b[0m\u001b[0;34m\u001b[0m\u001b[0m\n\u001b[0m\u001b[1;32m    883\u001b[0m \u001b[0;34m\u001b[0m\u001b[0m\n\u001b[1;32m    884\u001b[0m         \u001b[0;32mif\u001b[0m \u001b[0mis_hashable\u001b[0m\u001b[0;34m(\u001b[0m\u001b[0mkey\u001b[0m\u001b[0;34m)\u001b[0m\u001b[0;34m:\u001b[0m\u001b[0;34m\u001b[0m\u001b[0;34m\u001b[0m\u001b[0m\n",
      "\u001b[0;32m/home/chen/.local/lib/python3.6/site-packages/pandas/core/series.py\u001b[0m in \u001b[0;36m_get_value\u001b[0;34m(self, label, takeable)\u001b[0m\n\u001b[1;32m    987\u001b[0m \u001b[0;34m\u001b[0m\u001b[0m\n\u001b[1;32m    988\u001b[0m         \u001b[0;31m# Similar to Index.get_value, but we do not fall back to positional\u001b[0m\u001b[0;34m\u001b[0m\u001b[0;34m\u001b[0m\u001b[0;34m\u001b[0m\u001b[0m\n\u001b[0;32m--> 989\u001b[0;31m         \u001b[0mloc\u001b[0m \u001b[0;34m=\u001b[0m \u001b[0mself\u001b[0m\u001b[0;34m.\u001b[0m\u001b[0mindex\u001b[0m\u001b[0;34m.\u001b[0m\u001b[0mget_loc\u001b[0m\u001b[0;34m(\u001b[0m\u001b[0mlabel\u001b[0m\u001b[0;34m)\u001b[0m\u001b[0;34m\u001b[0m\u001b[0;34m\u001b[0m\u001b[0m\n\u001b[0m\u001b[1;32m    990\u001b[0m         \u001b[0;32mreturn\u001b[0m \u001b[0mself\u001b[0m\u001b[0;34m.\u001b[0m\u001b[0mindex\u001b[0m\u001b[0;34m.\u001b[0m\u001b[0m_get_values_for_loc\u001b[0m\u001b[0;34m(\u001b[0m\u001b[0mself\u001b[0m\u001b[0;34m,\u001b[0m \u001b[0mloc\u001b[0m\u001b[0;34m,\u001b[0m \u001b[0mlabel\u001b[0m\u001b[0;34m)\u001b[0m\u001b[0;34m\u001b[0m\u001b[0;34m\u001b[0m\u001b[0m\n\u001b[1;32m    991\u001b[0m \u001b[0;34m\u001b[0m\u001b[0m\n",
      "\u001b[0;32m/home/chen/.local/lib/python3.6/site-packages/pandas/core/indexes/base.py\u001b[0m in \u001b[0;36mget_loc\u001b[0;34m(self, key, method, tolerance)\u001b[0m\n\u001b[1;32m   2895\u001b[0m                 \u001b[0;32mreturn\u001b[0m \u001b[0mself\u001b[0m\u001b[0;34m.\u001b[0m\u001b[0m_engine\u001b[0m\u001b[0;34m.\u001b[0m\u001b[0mget_loc\u001b[0m\u001b[0;34m(\u001b[0m\u001b[0mcasted_key\u001b[0m\u001b[0;34m)\u001b[0m\u001b[0;34m\u001b[0m\u001b[0;34m\u001b[0m\u001b[0m\n\u001b[1;32m   2896\u001b[0m             \u001b[0;32mexcept\u001b[0m \u001b[0mKeyError\u001b[0m \u001b[0;32mas\u001b[0m \u001b[0merr\u001b[0m\u001b[0;34m:\u001b[0m\u001b[0;34m\u001b[0m\u001b[0;34m\u001b[0m\u001b[0m\n\u001b[0;32m-> 2897\u001b[0;31m                 \u001b[0;32mraise\u001b[0m \u001b[0mKeyError\u001b[0m\u001b[0;34m(\u001b[0m\u001b[0mkey\u001b[0m\u001b[0;34m)\u001b[0m \u001b[0;32mfrom\u001b[0m \u001b[0merr\u001b[0m\u001b[0;34m\u001b[0m\u001b[0;34m\u001b[0m\u001b[0m\n\u001b[0m\u001b[1;32m   2898\u001b[0m \u001b[0;34m\u001b[0m\u001b[0m\n\u001b[1;32m   2899\u001b[0m         \u001b[0;32mif\u001b[0m \u001b[0mtolerance\u001b[0m \u001b[0;32mis\u001b[0m \u001b[0;32mnot\u001b[0m \u001b[0;32mNone\u001b[0m\u001b[0;34m:\u001b[0m\u001b[0;34m\u001b[0m\u001b[0;34m\u001b[0m\u001b[0m\n",
      "\u001b[0;31mKeyError\u001b[0m: 'Id'"
     ]
    }
   ],
   "source": [
    "Tag = pandas.read_csv('../data/Tags.csv',encoding='latin1')\n",
    "Tag.sort_values(by=['Id'])\n",
    "tag_gen = Tag.iterrows()\n",
    "\n",
    "next_tag_data = next(tag_gen)\n",
    "\n",
    "data_loop = 0\n",
    "for idx, row in Question.iterrows():\n",
    "    while next_tag_data[1]['Id']<row['Id']:\n",
    "        next_tag_data = next(tag_gen)\n",
    "    count = 0\n",
    "    while next_tag_data[1]['Id']==row['Id']:\n",
    "        next_tag_data = next(tag_gen)\n",
    "        count += 1\n",
    "    Question.at[idx,'Tag'] = count\n",
    "    if data_loop % 10000 == 0:\n",
    "        print('#', end='')\n",
    "    data_loop+=1\n",
    "print('finished')"
   ]
  },
  {
   "cell_type": "code",
   "execution_count": null,
   "metadata": {},
   "outputs": [],
   "source": [
    "Question = Question.drop(columns=['Id','CreationDate_to_daytime'])\n",
    "Question"
   ]
  },
  {
   "cell_type": "code",
   "execution_count": 1,
   "metadata": {},
   "outputs": [],
   "source": [
    "import pandas\n",
    "\n",
    "def creatBestAns_RespTime_toclass(x):\n",
    "    in30min = 30*60\n",
    "    in60min = 2*in30min\n",
    "    in6hour = 6*in60min\n",
    "    in12hour = 2*in6hour\n",
    "    in1day = 2*in12hour\n",
    "    in1week = 7*in1day\n",
    "    in1month = 4*in1week\n",
    "    inhalfyear = (366/2)*in1day\n",
    "    in1year = 366*in1day\n",
    "    if x['BestAns_RespTime_timestamp'] <= in30min:\n",
    "        return 0\n",
    "    elif x['BestAns_RespTime_timestamp'] <= in60min:\n",
    "        return 1\n",
    "    elif x['BestAns_RespTime_timestamp'] <= in6hour:\n",
    "        return 2\n",
    "    elif x['BestAns_RespTime_timestamp'] <= in12hour:\n",
    "        return 3\n",
    "    elif x['BestAns_RespTime_timestamp'] <= in1day:\n",
    "        return 4\n",
    "    elif x['BestAns_RespTime_timestamp'] <= in1week:\n",
    "        return 5\n",
    "    elif x['BestAns_RespTime_timestamp'] <= in1month:\n",
    "        return 6\n",
    "    elif x['BestAns_RespTime_timestamp'] <= inhalfyear:\n",
    "        return 7\n",
    "    elif x['BestAns_RespTime_timestamp'] <= in1year:\n",
    "        return 8\n",
    "    else:\n",
    "        return 9\n",
    "\n",
    "def creatFirstAns_RespTime_toclass(x):\n",
    "    in30min = 30*60\n",
    "    in60min = 2*in30min\n",
    "    in6hour = 6*in60min\n",
    "    in12hour = 2*in6hour\n",
    "    in1day = 2*in12hour\n",
    "    in1week = 7*in1day\n",
    "    in1month = 4*in1week\n",
    "    inhalfyear = (366/2)*in1day\n",
    "    in1year = 366*in1day\n",
    "    if x['FirstAns_RespTime_timestamp'] <= in30min:\n",
    "        return 0\n",
    "    elif x['FirstAns_RespTime_timestamp'] <= in60min:\n",
    "        return 1\n",
    "    elif x['FirstAns_RespTime_timestamp'] <= in6hour:\n",
    "        return 2\n",
    "    elif x['FirstAns_RespTime_timestamp'] <= in12hour:\n",
    "        return 3\n",
    "    elif x['FirstAns_RespTime_timestamp'] <= in1day:\n",
    "        return 4\n",
    "    elif x['FirstAns_RespTime_timestamp'] <= in1week:\n",
    "        return 5\n",
    "    elif x['FirstAns_RespTime_timestamp'] <= in1month:\n",
    "        return 6\n",
    "    elif x['FirstAns_RespTime_timestamp'] <= inhalfyear:\n",
    "        return 7\n",
    "    elif x['FirstAns_RespTime_timestamp'] <= in1year:\n",
    "        return 8\n",
    "    else:\n",
    "        return 9\n",
    "    \n",
    "Question['BestAns_RespTime_timestamp'] = Question.apply(creatBestAns_RespTime_toclass, axis=1)\n",
    "Question['FirstAns_RespTime_timestamp'] = Question.apply(creatFirstAns_RespTime_toclass, axis=1)"
   ]
  },
  {
   "cell_type": "code",
   "execution_count": 3,
   "metadata": {},
   "outputs": [
    {
     "output_type": "execute_result",
     "data": {
      "text/plain": [
       "           index  Score  Title  Body  BestAns_RespTime_timestamp  \\\n",
       "0              0     26      7   293                           2   \n",
       "1              1    144      7    24                           9   \n",
       "2              2     21      3    54                           7   \n",
       "3              3     53      5    41                           5   \n",
       "4              4     49      6   169                           2   \n",
       "...          ...    ...    ...   ...                         ...   \n",
       "1102523  1264197      0      5    63                           0   \n",
       "1102524  1264200      0     13    51                           0   \n",
       "1102525  1264201      0     11   586                           1   \n",
       "1102526  1264203     -1      8    74                           0   \n",
       "1102527  1264210      1     10    74                           0   \n",
       "\n",
       "         FirstAns_RespTime_timestamp  Tag  \n",
       "0                                  2  3.0  \n",
       "1                                  0  4.0  \n",
       "2                                  7  3.0  \n",
       "3                                  1  4.0  \n",
       "4                                  0  4.0  \n",
       "...                              ...  ...  \n",
       "1102523                            0  2.0  \n",
       "1102524                            0  3.0  \n",
       "1102525                            1  3.0  \n",
       "1102526                            0  1.0  \n",
       "1102527                            0  3.0  \n",
       "\n",
       "[1102528 rows x 7 columns]"
      ],
      "text/html": "<div>\n<style scoped>\n    .dataframe tbody tr th:only-of-type {\n        vertical-align: middle;\n    }\n\n    .dataframe tbody tr th {\n        vertical-align: top;\n    }\n\n    .dataframe thead th {\n        text-align: right;\n    }\n</style>\n<table border=\"1\" class=\"dataframe\">\n  <thead>\n    <tr style=\"text-align: right;\">\n      <th></th>\n      <th>index</th>\n      <th>Score</th>\n      <th>Title</th>\n      <th>Body</th>\n      <th>BestAns_RespTime_timestamp</th>\n      <th>FirstAns_RespTime_timestamp</th>\n      <th>Tag</th>\n    </tr>\n  </thead>\n  <tbody>\n    <tr>\n      <th>0</th>\n      <td>0</td>\n      <td>26</td>\n      <td>7</td>\n      <td>293</td>\n      <td>2</td>\n      <td>2</td>\n      <td>3.0</td>\n    </tr>\n    <tr>\n      <th>1</th>\n      <td>1</td>\n      <td>144</td>\n      <td>7</td>\n      <td>24</td>\n      <td>9</td>\n      <td>0</td>\n      <td>4.0</td>\n    </tr>\n    <tr>\n      <th>2</th>\n      <td>2</td>\n      <td>21</td>\n      <td>3</td>\n      <td>54</td>\n      <td>7</td>\n      <td>7</td>\n      <td>3.0</td>\n    </tr>\n    <tr>\n      <th>3</th>\n      <td>3</td>\n      <td>53</td>\n      <td>5</td>\n      <td>41</td>\n      <td>5</td>\n      <td>1</td>\n      <td>4.0</td>\n    </tr>\n    <tr>\n      <th>4</th>\n      <td>4</td>\n      <td>49</td>\n      <td>6</td>\n      <td>169</td>\n      <td>2</td>\n      <td>0</td>\n      <td>4.0</td>\n    </tr>\n    <tr>\n      <th>...</th>\n      <td>...</td>\n      <td>...</td>\n      <td>...</td>\n      <td>...</td>\n      <td>...</td>\n      <td>...</td>\n      <td>...</td>\n    </tr>\n    <tr>\n      <th>1102523</th>\n      <td>1264197</td>\n      <td>0</td>\n      <td>5</td>\n      <td>63</td>\n      <td>0</td>\n      <td>0</td>\n      <td>2.0</td>\n    </tr>\n    <tr>\n      <th>1102524</th>\n      <td>1264200</td>\n      <td>0</td>\n      <td>13</td>\n      <td>51</td>\n      <td>0</td>\n      <td>0</td>\n      <td>3.0</td>\n    </tr>\n    <tr>\n      <th>1102525</th>\n      <td>1264201</td>\n      <td>0</td>\n      <td>11</td>\n      <td>586</td>\n      <td>1</td>\n      <td>1</td>\n      <td>3.0</td>\n    </tr>\n    <tr>\n      <th>1102526</th>\n      <td>1264203</td>\n      <td>-1</td>\n      <td>8</td>\n      <td>74</td>\n      <td>0</td>\n      <td>0</td>\n      <td>1.0</td>\n    </tr>\n    <tr>\n      <th>1102527</th>\n      <td>1264210</td>\n      <td>1</td>\n      <td>10</td>\n      <td>74</td>\n      <td>0</td>\n      <td>0</td>\n      <td>3.0</td>\n    </tr>\n  </tbody>\n</table>\n<p>1102528 rows × 7 columns</p>\n</div>"
     },
     "metadata": {},
     "execution_count": 3
    }
   ],
   "source": [
    "Question.to_csv('DeepLearningData.csv')\n",
    "Question"
   ]
  },
  {
   "cell_type": "code",
   "execution_count": null,
   "metadata": {},
   "outputs": [],
   "source": []
  }
 ]
}